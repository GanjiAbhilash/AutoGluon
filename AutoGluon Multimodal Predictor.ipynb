{
 "cells": [
  {
   "cell_type": "markdown",
   "id": "145cbc6d",
   "metadata": {},
   "source": [
    "<p style=\"padding: 10px; border: 1px solid black;\">\n",
    "<img src=\"./utils/MLU-NEW-logo.png\" alt=\"drawing\" width=\"400\"/> <br/>\n",
    "\n",
    "# <a name=\"0\">Multimodal Prediction using AutoGluon</a>\n",
    "\n",
    "For problems on multimodal data tables that contain image, text, and tabular data, AutoGluon provides MultiModalPredictor (abbreviated as AutoMM) that automatically selects and fuses deep learning backbones from popular packages like [timm](https://github.com/rwightman/pytorch-image-models), [huggingface/transformers](https://github.com/huggingface/transformers), [CLIP](https://github.com/openai/CLIP), etc. \n",
    "\n",
    "You can use it to build models for multimodal problems that involve image, text, and tabular features, e.g., predicting the product price based on the items’ description, photo, and other metadata, or matching images with text descriptions.\n",
    "\n",
    "In addition, being good at multimodal problems implies that the predictor will be good for each specific modality. Thus, you can also use AutoMM to solve standard NLP/Vision tasks like sentiment classification, intent detection, paraphrase detection, image classification. Moreover, AutoMM can be used as a basic model in the multi-layer stack-ensemble of TabularPredictor.\n",
    "\n",
    "In the following, we prepared a few tutorials to help you learn how to use AutoMM to solve problems that involve image, text, and tabular data.\n",
    "\n",
    "Note: Please use **GPU** for training. CPU training will lead to an unceasing running script. \n",
    "    \n",
    "    \n",
    "## <a href=\"#MultiModal-Predictor\">Multimodal Predictor</a>\n",
    "    \n",
    "###  <a href=\"#AutoMM-for-Tabular-and-Text\">AutoMM for Tabular and Text</a>\n",
    "\n",
    "1. <a href=\"#Product-Similarity-Task\">Product Similarity Task</a>\n",
    "2. <a href=\"#Training-the-Predictor\">Training the Predictor</a>   \n",
    "3. <a href=\"#Model-Evaluation-and-Prediction\"> Model Evaluation and Prediction  </a>\n",
    "4. <a href=\"#Extract-Embeddings\"> Extract Embeddings </a>\n",
    "5. <a href=\"#What's-happening-inside?\">What's happening inside?</a>\n",
    "6. <a href=\"#How-does-this-compare-with-TabularPredictor?\">How does this compare with TabularPredictor?</a>\n",
    "\n",
    "    \n",
    "###  <a href=\"#AutoMM-for-Tabular,-Text-and-Image\">AutoMM for Tabular, Text and Image</a>\n",
    "    \n",
    "1. <a href=\"#Training-the-Predictor-with-Images-and-Text\">Training the Predictor with Images and Text</a>   \n",
    "2. <a href=\"#Model-Evaluation-and-Prediction-with-Full-Multimodal-Predictor\">Model Evaluation and Prediction with Full Multimodal Predictor</a>\n",
    "3. <a href=\"#Extract-Embeddings-using-Full-Multimodal-Predictor\">Extract Embeddings using Full Multimodal Predictor</a>\n",
    "4. <a href=\"#Save-and-Load-Full-Multimodal-Predictor\">Save and Load Full Multimodal Predictor</a>\n",
    "    \n",
    "(<a href=\"#0\">Go to top</a>)"
   ]
  },
  {
   "cell_type": "markdown",
   "id": "6f54a82c",
   "metadata": {},
   "source": [
    "Let's start by loading some libraries and packages!"
   ]
  },
  {
   "cell_type": "code",
   "execution_count": 1,
   "id": "5208a534",
   "metadata": {},
   "outputs": [],
   "source": [
    "# Install AutoGluon\n",
    "# !pip install -q autogluon"
   ]
  },
  {
   "cell_type": "code",
   "execution_count": 2,
   "id": "024525ad",
   "metadata": {},
   "outputs": [],
   "source": [
    "%matplotlib inline\n",
    "\n",
    "# Load in libraries\n",
    "import os\n",
    "import pandas as pd\n",
    "import numpy as np\n",
    "from sklearn.model_selection import train_test_split\n",
    "import warnings\n",
    "import matplotlib.pyplot as plt\n",
    "\n",
    "warnings.filterwarnings('ignore')\n",
    "np.random.seed(123)"
   ]
  },
  {
   "cell_type": "markdown",
   "id": "f3940f7f",
   "metadata": {},
   "source": [
    "# <a id=\"MultiModal-Predictor\">MultiModal Predictor</a>\n",
    "\n",
    "In this notebook, we will study AutoGluon's multimodal predictor on data which contains tabular, text as well as image data.\n",
    "\n",
    "(<a href=\"#0\">Go to top</a>)"
   ]
  },
  {
   "cell_type": "markdown",
   "id": "ba0153d2",
   "metadata": {},
   "source": [
    "# <a id=\"AutoMM-for-Tabular-and-Text\">AutoMM for Tabular and Text</a>\n",
    "\n",
    "In many applications, text data may be mixed with numeric/categorical data. \n",
    "AutoGluon's `AutoMMPredictor` can train a single neural network that jointly operates on multiple feature types, \n",
    "including text, categorical, and numerical columns. The general idea is to embed the text, categorical and numeric fields \n",
    "separately and fuse these features across modalities. This tutorial demonstrates such an application.\n",
    "\n",
    "(<a href=\"#0\">Go to top</a>)"
   ]
  },
  {
   "cell_type": "markdown",
   "id": "2d6926bf",
   "metadata": {},
   "source": [
    "## <a id=\"Product-Similarity-Task\">Product Similarity Task</a>\n",
    "Next, let's use AutoGluon to train a model for evaluating how similar two products are using the tabular and text features.\n",
    "\n",
    "Let's load the dataset into dataframes. For model evaluation, let's further split the training dataset into a training set and a validation set.\n",
    "\n",
    "(<a href=\"#0\">Go to top</a>)"
   ]
  },
  {
   "cell_type": "code",
   "execution_count": 3,
   "id": "66da11e2",
   "metadata": {},
   "outputs": [
    {
     "data": {
      "text/html": [
       "<div>\n",
       "<style scoped>\n",
       "    .dataframe tbody tr th:only-of-type {\n",
       "        vertical-align: middle;\n",
       "    }\n",
       "\n",
       "    .dataframe tbody tr th {\n",
       "        vertical-align: top;\n",
       "    }\n",
       "\n",
       "    .dataframe thead th {\n",
       "        text-align: right;\n",
       "    }\n",
       "</style>\n",
       "<table border=\"1\" class=\"dataframe\">\n",
       "  <thead>\n",
       "    <tr style=\"text-align: right;\">\n",
       "      <th></th>\n",
       "      <th>item_name_1</th>\n",
       "      <th>item_name_2</th>\n",
       "      <th>product_type_1</th>\n",
       "      <th>product_type_2</th>\n",
       "      <th>product_description_1</th>\n",
       "      <th>product_description_2</th>\n",
       "      <th>item_package_quantity_1</th>\n",
       "      <th>item_package_quantity_2</th>\n",
       "      <th>label</th>\n",
       "    </tr>\n",
       "  </thead>\n",
       "  <tbody>\n",
       "    <tr>\n",
       "      <th>7199</th>\n",
       "      <td>Gem Stone King 10.00 Ct Round Cut Stunning Cub...</td>\n",
       "      <td>Gem Stone King 10.00 Ct Round Cut Stunning Cub...</td>\n",
       "      <td>FASHIONNECKLACEBRACELETANKLET</td>\n",
       "      <td>FASHIONNECKLACEBRACELETANKLET</td>\n",
       "      <td>This beautiful item is brand new and comes wit...</td>\n",
       "      <td>This beautiful item is brand new and comes wit...</td>\n",
       "      <td>1.0</td>\n",
       "      <td>1.0</td>\n",
       "      <td>0</td>\n",
       "    </tr>\n",
       "    <tr>\n",
       "      <th>18532</th>\n",
       "      <td>Orange Circle Studio 2019 Hidden Spiral Agenda...</td>\n",
       "      <td>Orange Circle Studio 2019 Hidden Spiral Agenda...</td>\n",
       "      <td>OFFICE_PRODUCTS</td>\n",
       "      <td>ABIS_BOOK</td>\n",
       "      <td>NaN</td>\n",
       "      <td>NaN</td>\n",
       "      <td>1.0</td>\n",
       "      <td>NaN</td>\n",
       "      <td>0</td>\n",
       "    </tr>\n",
       "    <tr>\n",
       "      <th>18501</th>\n",
       "      <td>9\" x 100' Black EPDM 60 mil P &amp; S CURED RUBBER...</td>\n",
       "      <td>FBA 9\" x 100' Black EPDM 60 mil P &amp; S Cured Ru...</td>\n",
       "      <td>BUILDING_MATERIAL</td>\n",
       "      <td>BUILDING_MATERIAL</td>\n",
       "      <td>10 year FULL PRODUCT REPLACEMENT WARRANTY TECH...</td>\n",
       "      <td>10 year FULL PRODUCT REPLACEMENT WARRANTY TECH...</td>\n",
       "      <td>1.0</td>\n",
       "      <td>1.0</td>\n",
       "      <td>1</td>\n",
       "    </tr>\n",
       "    <tr>\n",
       "      <th>11334</th>\n",
       "      <td>Frontier Bulk Lemon Peel Granules, ORGANIC, 1 ...</td>\n",
       "      <td>Frontier Bulk Bac'Uns Vegetarian Bits, ORGANIC...</td>\n",
       "      <td>GROCERY</td>\n",
       "      <td>WIRELESS_ACCESSORY</td>\n",
       "      <td>NaN</td>\n",
       "      <td>Ingredients Organic textured soy protein (orga...</td>\n",
       "      <td>2.0</td>\n",
       "      <td>2.0</td>\n",
       "      <td>0</td>\n",
       "    </tr>\n",
       "    <tr>\n",
       "      <th>13020</th>\n",
       "      <td>Blue Sea 7242 A-Series Double Pole Toggle - 50...</td>\n",
       "      <td>BLUE SEA SYSTEMS 7242 / Blue Sea 7242 A-Series...</td>\n",
       "      <td>MISC_OTHER</td>\n",
       "      <td>MONITOR</td>\n",
       "      <td>&lt;b&gt;A-Series Toggle Double Pole&lt;/b&gt;&lt;br/&gt;&lt;br/&gt;&lt;b...</td>\n",
       "      <td>&lt;b&gt;A-Series Toggle Double Pole&lt;/b&gt;&lt;br/&gt;&lt;br/&gt;&lt;b...</td>\n",
       "      <td>1.0</td>\n",
       "      <td>1.0</td>\n",
       "      <td>1</td>\n",
       "    </tr>\n",
       "  </tbody>\n",
       "</table>\n",
       "</div>"
      ],
      "text/plain": [
       "                                             item_name_1  \\\n",
       "7199   Gem Stone King 10.00 Ct Round Cut Stunning Cub...   \n",
       "18532  Orange Circle Studio 2019 Hidden Spiral Agenda...   \n",
       "18501  9\" x 100' Black EPDM 60 mil P & S CURED RUBBER...   \n",
       "11334  Frontier Bulk Lemon Peel Granules, ORGANIC, 1 ...   \n",
       "13020  Blue Sea 7242 A-Series Double Pole Toggle - 50...   \n",
       "\n",
       "                                             item_name_2  \\\n",
       "7199   Gem Stone King 10.00 Ct Round Cut Stunning Cub...   \n",
       "18532  Orange Circle Studio 2019 Hidden Spiral Agenda...   \n",
       "18501  FBA 9\" x 100' Black EPDM 60 mil P & S Cured Ru...   \n",
       "11334  Frontier Bulk Bac'Uns Vegetarian Bits, ORGANIC...   \n",
       "13020  BLUE SEA SYSTEMS 7242 / Blue Sea 7242 A-Series...   \n",
       "\n",
       "                      product_type_1                 product_type_2  \\\n",
       "7199   FASHIONNECKLACEBRACELETANKLET  FASHIONNECKLACEBRACELETANKLET   \n",
       "18532                OFFICE_PRODUCTS                      ABIS_BOOK   \n",
       "18501              BUILDING_MATERIAL              BUILDING_MATERIAL   \n",
       "11334                        GROCERY             WIRELESS_ACCESSORY   \n",
       "13020                     MISC_OTHER                        MONITOR   \n",
       "\n",
       "                                   product_description_1  \\\n",
       "7199   This beautiful item is brand new and comes wit...   \n",
       "18532                                                NaN   \n",
       "18501  10 year FULL PRODUCT REPLACEMENT WARRANTY TECH...   \n",
       "11334                                                NaN   \n",
       "13020  <b>A-Series Toggle Double Pole</b><br/><br/><b...   \n",
       "\n",
       "                                   product_description_2  \\\n",
       "7199   This beautiful item is brand new and comes wit...   \n",
       "18532                                                NaN   \n",
       "18501  10 year FULL PRODUCT REPLACEMENT WARRANTY TECH...   \n",
       "11334  Ingredients Organic textured soy protein (orga...   \n",
       "13020  <b>A-Series Toggle Double Pole</b><br/><br/><b...   \n",
       "\n",
       "       item_package_quantity_1  item_package_quantity_2  label  \n",
       "7199                       1.0                      1.0      0  \n",
       "18532                      1.0                      NaN      0  \n",
       "18501                      1.0                      1.0      1  \n",
       "11334                      2.0                      2.0      0  \n",
       "13020                      1.0                      1.0      1  "
      ]
     },
     "execution_count": 3,
     "metadata": {},
     "output_type": "execute_result"
    }
   ],
   "source": [
    "# Load the training dataset\n",
    "df_train = pd.read_csv(\"../data/training.csv\")\n",
    "\n",
    "# Load the test dataset\n",
    "df_test = pd.read_csv(\"../data/mlu-leaderboard-test.csv\")\n",
    "\n",
    "\n",
    "train_data, val_data = train_test_split(\n",
    "    df_train[['item_name_1', 'item_name_2', \n",
    "              'product_type_1', 'product_type_2', \n",
    "              'product_description_1', 'product_description_2', \n",
    "              'item_package_quantity_1', 'item_package_quantity_2', \n",
    "              'label']],\n",
    "    test_size=0.10,\n",
    "    shuffle=True,\n",
    "    random_state=324,\n",
    ")\n",
    "\n",
    "train_data.head()"
   ]
  },
  {
   "cell_type": "markdown",
   "id": "c5e20873",
   "metadata": {},
   "source": [
    "In this data, the column named label contains categorical/numerical values (which we'd like to predict) that are human-annotated similarity scores for each given pair of sentences."
   ]
  },
  {
   "cell_type": "code",
   "execution_count": 4,
   "id": "7e9759b4",
   "metadata": {},
   "outputs": [
    {
     "name": "stdout",
     "output_type": "stream",
     "text": [
      "Min score= 0 , Max score= 1\n"
     ]
    }
   ],
   "source": [
    "print('Min score=', min(train_data['label']), ', Max score=', max(train_data['label']))"
   ]
  },
  {
   "cell_type": "markdown",
   "id": "0a568788",
   "metadata": {},
   "source": [
    "Let's train a model to predict these labels. \n",
    "Note that we only need to specify the label column and AutoGluon automatically determines the type of prediction problem and an appropriate loss function. \n",
    "Once again, you should increase the short `time_limit` below to obtain reasonable performance in your own applications."
   ]
  },
  {
   "cell_type": "markdown",
   "id": "dc991a72",
   "metadata": {},
   "source": [
    "## <a id=\"Training-Predictor\">Training the Predictor</a>\n",
    "\n",
    "\n",
    "We can simply create a AutoMMPredictor and call `predictor.fit()` to train a model that operates on across all types of features. \n",
    "Internally, the neural network will be automatically generated based on the inferred data type of each feature column. \n",
    "To save time, we subsample the data and only train for three minutes.\n",
    "\n",
    "(<a href=\"#0\">Go to top</a>)"
   ]
  },
  {
   "cell_type": "code",
   "execution_count": 5,
   "id": "a4729321",
   "metadata": {},
   "outputs": [
    {
     "name": "stderr",
     "output_type": "stream",
     "text": [
      "Global seed set to 123\n",
      "Auto select gpus: [0]\n",
      "Using 16bit native Automatic Mixed Precision (AMP)\n",
      "GPU available: True, used: True\n",
      "TPU available: False, using: 0 TPU cores\n",
      "IPU available: False, using: 0 IPUs\n",
      "HPU available: False, using: 0 HPUs\n",
      "LOCAL_RANK: 0 - CUDA_VISIBLE_DEVICES: [0]\n",
      "\n",
      "  | Name              | Type                | Params\n",
      "----------------------------------------------------------\n",
      "0 | model             | MultimodalFusionMLP | 109 M \n",
      "1 | validation_metric | AUROC               | 0     \n",
      "2 | loss_func         | CrossEntropyLoss    | 0     \n",
      "----------------------------------------------------------\n",
      "109 M     Trainable params\n",
      "0         Non-trainable params\n",
      "109 M     Total params\n",
      "219.567   Total estimated model params size (MB)\n"
     ]
    },
    {
     "data": {
      "application/vnd.jupyter.widget-view+json": {
       "model_id": "",
       "version_major": 2,
       "version_minor": 0
      },
      "text/plain": [
       "Sanity Checking: 0it [00:00, ?it/s]"
      ]
     },
     "metadata": {},
     "output_type": "display_data"
    },
    {
     "data": {
      "application/vnd.jupyter.widget-view+json": {
       "model_id": "c67fbaa2d1044ae893e40e3ac6c60d94",
       "version_major": 2,
       "version_minor": 0
      },
      "text/plain": [
       "Training: 0it [00:00, ?it/s]"
      ]
     },
     "metadata": {},
     "output_type": "display_data"
    },
    {
     "data": {
      "application/vnd.jupyter.widget-view+json": {
       "model_id": "",
       "version_major": 2,
       "version_minor": 0
      },
      "text/plain": [
       "Validation: 0it [00:00, ?it/s]"
      ]
     },
     "metadata": {},
     "output_type": "display_data"
    },
    {
     "name": "stderr",
     "output_type": "stream",
     "text": [
      "Epoch 0, global step 59: 'val_roc_auc' reached 0.69161 (best 0.69161), saving model to '/home/ec2-user/SageMaker/notebooks/AutogluonModels/MultiModalText/epoch=0-step=59.ckpt' as top 3\n"
     ]
    },
    {
     "data": {
      "application/vnd.jupyter.widget-view+json": {
       "model_id": "",
       "version_major": 2,
       "version_minor": 0
      },
      "text/plain": [
       "Validation: 0it [00:00, ?it/s]"
      ]
     },
     "metadata": {},
     "output_type": "display_data"
    },
    {
     "name": "stderr",
     "output_type": "stream",
     "text": [
      "Epoch 0, global step 119: 'val_roc_auc' reached 0.74657 (best 0.74657), saving model to '/home/ec2-user/SageMaker/notebooks/AutogluonModels/MultiModalText/epoch=0-step=119.ckpt' as top 3\n",
      "Time limit reached. Elapsed time is 0:10:00. Signaling Trainer to stop.\n"
     ]
    },
    {
     "data": {
      "application/vnd.jupyter.widget-view+json": {
       "model_id": "",
       "version_major": 2,
       "version_minor": 0
      },
      "text/plain": [
       "Validation: 0it [00:00, ?it/s]"
      ]
     },
     "metadata": {},
     "output_type": "display_data"
    },
    {
     "name": "stderr",
     "output_type": "stream",
     "text": [
      "Epoch 0, global step 120: 'val_roc_auc' reached 0.73757 (best 0.74657), saving model to '/home/ec2-user/SageMaker/notebooks/AutogluonModels/MultiModalText/epoch=0-step=120.ckpt' as top 3\n",
      "Start to fuse 3 checkpoints via the greedy soup algorithm.\n"
     ]
    },
    {
     "data": {
      "application/vnd.jupyter.widget-view+json": {
       "model_id": "fd0c32d4dd22478b91a253bb8880deb4",
       "version_major": 2,
       "version_minor": 0
      },
      "text/plain": [
       "Predicting: 0it [00:00, ?it/s]"
      ]
     },
     "metadata": {},
     "output_type": "display_data"
    },
    {
     "data": {
      "application/vnd.jupyter.widget-view+json": {
       "model_id": "2de371a640dc4b638b41328d675b784f",
       "version_major": 2,
       "version_minor": 0
      },
      "text/plain": [
       "Predicting: 0it [00:00, ?it/s]"
      ]
     },
     "metadata": {},
     "output_type": "display_data"
    },
    {
     "data": {
      "application/vnd.jupyter.widget-view+json": {
       "model_id": "1f907a6ff17b4a269e5e955e98551d22",
       "version_major": 2,
       "version_minor": 0
      },
      "text/plain": [
       "Predicting: 0it [00:00, ?it/s]"
      ]
     },
     "metadata": {},
     "output_type": "display_data"
    },
    {
     "data": {
      "text/plain": [
       "<autogluon.multimodal.predictor.AutoMMPredictor at 0x7f5d4343e340>"
      ]
     },
     "execution_count": 5,
     "metadata": {},
     "output_type": "execute_result"
    }
   ],
   "source": [
    "from autogluon.multimodal import AutoMMPredictor\n",
    "time_limit = 10 * 60  # set to larger value in your applications\n",
    "predictor = AutoMMPredictor(label='label', path='./AutogluonModels/MultiModalText')\n",
    "predictor.fit(train_data, time_limit=time_limit)"
   ]
  },
  {
   "cell_type": "markdown",
   "id": "b50afb09",
   "metadata": {},
   "source": [
    "## <a id=\"Model-Evaluation-and-Prediction\">Model Evaluation and Prediction</a>\n",
    "\n",
    "We can easily obtain predictions and extract data embeddings using the AutoMMPredictor.\n",
    "\n",
    "(<a href=\"#0\">Go to top</a>)"
   ]
  },
  {
   "cell_type": "markdown",
   "id": "75f83f6c",
   "metadata": {},
   "source": [
    "\n",
    "We again evaluate our trained model's performance on separate validation data. Below we choose to compute the following metrics: RMSE, Pearson Correlation, and Spearman Correlation.\n"
   ]
  },
  {
   "cell_type": "code",
   "execution_count": 6,
   "id": "c92d9757",
   "metadata": {},
   "outputs": [
    {
     "data": {
      "application/vnd.jupyter.widget-view+json": {
       "model_id": "7e3d21727e014c1e9073e1c52791c18b",
       "version_major": 2,
       "version_minor": 0
      },
      "text/plain": [
       "Predicting: 0it [00:00, ?it/s]"
      ]
     },
     "metadata": {},
     "output_type": "display_data"
    },
    {
     "name": "stdout",
     "output_type": "stream",
     "text": [
      "Predictions:\n",
      "------------\n",
      "5572     0.000000\n",
      "9085     0.000000\n",
      "4228     0.000000\n",
      "16907    0.000000\n",
      "9019     0.000000\n",
      "           ...   \n",
      "16037    1.718282\n",
      "6415     0.000000\n",
      "10769    0.000000\n",
      "14412    0.000000\n",
      "11010    0.000000\n",
      "Name: label, Length: 1890, dtype: float64\n",
      "\n",
      "True Value:\n",
      "------------\n",
      "5572     1.718282\n",
      "9085     1.718282\n",
      "4228     0.000000\n",
      "16907    0.000000\n",
      "9019     1.718282\n",
      "           ...   \n",
      "16037    0.000000\n",
      "6415     0.000000\n",
      "10769    0.000000\n",
      "14412    1.718282\n",
      "11010    1.718282\n",
      "Name: label, Length: 1890, dtype: float64\n"
     ]
    }
   ],
   "source": [
    "predictions = predictor.predict(val_data)\n",
    "print('Predictions:')\n",
    "print('------------')\n",
    "print(np.exp(predictions) - 1)\n",
    "print()\n",
    "print('True Value:')\n",
    "print('------------')\n",
    "print(np.exp(val_data['label']) - 1)"
   ]
  },
  {
   "cell_type": "code",
   "execution_count": 7,
   "id": "561b20ba",
   "metadata": {},
   "outputs": [
    {
     "data": {
      "application/vnd.jupyter.widget-view+json": {
       "model_id": "fc86fab5898a41afb6b43cb9cd55ba36",
       "version_major": 2,
       "version_minor": 0
      },
      "text/plain": [
       "Predicting: 0it [00:00, ?it/s]"
      ]
     },
     "metadata": {},
     "output_type": "display_data"
    },
    {
     "name": "stdout",
     "output_type": "stream",
     "text": [
      "{'roc_auc': 0.7396323712308953}\n"
     ]
    }
   ],
   "source": [
    "performance = predictor.evaluate(val_data)\n",
    "print(performance)"
   ]
  },
  {
   "cell_type": "code",
   "execution_count": 8,
   "id": "b5e05cca",
   "metadata": {},
   "outputs": [
    {
     "data": {
      "application/vnd.jupyter.widget-view+json": {
       "model_id": "57d30cf976bd4a618aded39af302db17",
       "version_major": 2,
       "version_minor": 0
      },
      "text/plain": [
       "Predicting: 0it [00:00, ?it/s]"
      ]
     },
     "metadata": {},
     "output_type": "display_data"
    },
    {
     "name": "stdout",
     "output_type": "stream",
     "text": [
      "RMSE = 0.59\n",
      "PEARSONR = 0.2762\n",
      "SPEARMANR = 0.2762\n"
     ]
    }
   ],
   "source": [
    "val_score = predictor.evaluate(val_data, metrics=['rmse', 'pearsonr', 'spearmanr'])\n",
    "print('RMSE = {:.2f}'.format(val_score['rmse']))\n",
    "print('PEARSONR = {:.4f}'.format(val_score['pearsonr']))\n",
    "print('SPEARMANR = {:.4f}'.format(val_score['spearmanr']))"
   ]
  },
  {
   "cell_type": "code",
   "execution_count": 9,
   "id": "94200fa7",
   "metadata": {},
   "outputs": [
    {
     "data": {
      "application/vnd.jupyter.widget-view+json": {
       "model_id": "966c95adb6fc476392c98e5d5ff4d819",
       "version_major": 2,
       "version_minor": 0
      },
      "text/plain": [
       "Predicting: 0it [00:00, ?it/s]"
      ]
     },
     "metadata": {},
     "output_type": "display_data"
    },
    {
     "data": {
      "text/plain": [
       "{'acc': 0.6513227513227513, 'f1': 0.3481701285855589}"
      ]
     },
     "execution_count": 9,
     "metadata": {},
     "output_type": "execute_result"
    }
   ],
   "source": [
    "predictor.evaluate(val_data, metrics=['acc', 'f1'])"
   ]
  },
  {
   "cell_type": "markdown",
   "id": "3b34f665",
   "metadata": {},
   "source": [
    "Let's use our model to predict the similarity score between two sentences."
   ]
  },
  {
   "cell_type": "markdown",
   "id": "2dd1551c",
   "metadata": {},
   "source": [
    "## <a id=\"Extract-Embeddings\">Extract Embeddings</a>\n",
    "You can also use a trained predictor to extract embeddings that maps each row of the data table to an embedding vector extracted from intermediate neural network representations of the row.\n",
    "\n",
    "(<a href=\"#0\">Go to top</a>)"
   ]
  },
  {
   "cell_type": "code",
   "execution_count": 10,
   "id": "e7f0cb61",
   "metadata": {},
   "outputs": [
    {
     "data": {
      "application/vnd.jupyter.widget-view+json": {
       "model_id": "d8e9ae2682884ed38747765c5386441d",
       "version_major": 2,
       "version_minor": 0
      },
      "text/plain": [
       "Predicting: 0it [00:00, ?it/s]"
      ]
     },
     "metadata": {},
     "output_type": "display_data"
    },
    {
     "name": "stdout",
     "output_type": "stream",
     "text": [
      "(1890, 128)\n"
     ]
    }
   ],
   "source": [
    "embeddings = predictor.extract_embedding(val_data)\n",
    "print(embeddings.shape)"
   ]
  },
  {
   "cell_type": "markdown",
   "id": "49894905",
   "metadata": {},
   "source": [
    "Here, we use TSNE to visualize these extracted embeddings. We can see that there are two clusters corresponding to our two labels, since this network has been trained to discriminate between these labels."
   ]
  },
  {
   "cell_type": "code",
   "execution_count": 11,
   "id": "333728ce",
   "metadata": {},
   "outputs": [
    {
     "data": {
      "text/plain": [
       "<matplotlib.legend.Legend at 0x7f5d40288370>"
      ]
     },
     "execution_count": 11,
     "metadata": {},
     "output_type": "execute_result"
    },
    {
     "data": {
      "image/png": "[encoded data removed]",
      "text/plain": [
       "<Figure size 432x288 with 1 Axes>"
      ]
     },
     "metadata": {
      "needs_background": "light"
     },
     "output_type": "display_data"
    }
   ],
   "source": [
    "from sklearn.manifold import TSNE\n",
    "X_embedded = TSNE(n_components=2, random_state=123).fit_transform(embeddings)\n",
    "for val, color in [(0, 'red'), (1, 'blue')]:\n",
    "    idx = (val_data['label'].to_numpy() == val).nonzero()\n",
    "    plt.scatter(X_embedded[idx, 0], X_embedded[idx, 1], c=color, label=f'label={val}')\n",
    "plt.legend(loc='best')"
   ]
  },
  {
   "cell_type": "markdown",
   "id": "a05efaa7",
   "metadata": {},
   "source": [
    "## <a id=\"What-is-happening\">What's happening inside?</a>\n",
    "\n",
    "\n",
    "Internally, we use different networks to encode the text columns, categorical columns, and numerical columns. The features generated by individual networks are aggregated by a late-fusion aggregator. The aggregator can output both the logits or score predictions. The architecture can be illustrated as follows:\n",
    "\n",
    "![Multimodal Network with Late Fusion](https://autogluon-text-data.s3.amazonaws.com/figures/fuse-late.png)\n",
    "\n",
    ":width:`600px`\n",
    "\n",
    "\n",
    "Here, we use the pretrained NLP backbone to extract the text features and then use two other towers to extract the feature from categorical column and the numerical column.\n",
    "\n",
    "In addition, to deal with multiple text fields, we separate these fields with the `[SEP]` token and alternate 0s and 1s as the segment IDs, which is shown as follows:\n",
    "\n",
    "![Preprocessing](https://autogluon-text-data.s3.amazonaws.com/figures/preprocess.png)\n",
    "\n",
    ":width:`600px`\n"
   ]
  },
  {
   "cell_type": "markdown",
   "id": "c317d871",
   "metadata": {},
   "source": [
    "## <a id=\"How-does-it-compare\">How does this compare with TabularPredictor?</a>\n",
    "\n",
    "Note that `TabularPredictor` can also handle data tables with text, numeric, and categorical columns, but it uses an ensemble of many types of models and may featurize text. `AutoMMPredictor` instead directly fuses multiple neural network models directly and handles \n",
    "raw text (which are also capable of handling additional numerical/categorical columns). We generally recommend `TabularPredictor` if your table contains mainly numeric/categorical columns and AutoMMPredictor if your table contains mainly text columns, \n",
    "but you may easily try both and we encourage this. In fact, `TabularPredictor.fit(..., hyperparameters='multimodal')` will train a AutoMMPredictor along with many other tabular models and ensemble them together. \n",
    "Refer to the tutorial \"[tutorials/tabular_prediction/tabular-multimodal-text-others.ipynb](https://github.com/gidler/autogluon-tutorials/blob/main/tutorials/tabular_prediction/tabular-multimodal-text-others.ipynb)\"  for more details.\n",
    "\n",
    "## Other Examples\n",
    "\n",
    "You may go to https://github.com/awslabs/autogluon/tree/master/examples/automm to explore other AutoMMPredictor examples.\n",
    "\n",
    "## Customization\n",
    "To customize AutoMM, please refer to [tutorials/multimodal/customization.ipynb](https://github.com/gidler/autogluon-tutorials/blob/main/tutorials/multimodal/customization.ipynb)."
   ]
  },
  {
   "cell_type": "markdown",
   "id": "5204e0cd",
   "metadata": {},
   "source": [
    "# <a id=\"AutoMM-for-Tabular,-Text-and-Image\">AutoMM for Tabular, Text and Image</a>\n",
    "\n",
    "AutoMM is a deep learning \"model zoo\" of model zoos. It can automatically build deep learning models that are suitable for multimodal datasets. You will only need to convert the data into the multimodal dataframe format and AutoMM can predict the values of one column conditioned on the features from the other columns including images, text, and tabular data.\n",
    "\n",
    "Now let's introduce how to apply AutoGluon on Tabular, Text and Image data.\n",
    "\n",
    "(<a href=\"#0\">Go to top</a>)"
   ]
  },
  {
   "cell_type": "code",
   "execution_count": 41,
   "id": "2f0a48c9",
   "metadata": {},
   "outputs": [
    {
     "data": {
      "text/html": [
       "<div>\n",
       "<style scoped>\n",
       "    .dataframe tbody tr th:only-of-type {\n",
       "        vertical-align: middle;\n",
       "    }\n",
       "\n",
       "    .dataframe tbody tr th {\n",
       "        vertical-align: top;\n",
       "    }\n",
       "\n",
       "    .dataframe thead th {\n",
       "        text-align: right;\n",
       "    }\n",
       "</style>\n",
       "<table border=\"1\" class=\"dataframe\">\n",
       "  <thead>\n",
       "    <tr style=\"text-align: right;\">\n",
       "      <th></th>\n",
       "      <th>list_price_value_1</th>\n",
       "      <th>product_type_1</th>\n",
       "      <th>item_name_1</th>\n",
       "      <th>product_description_1</th>\n",
       "      <th>bullet_point_1</th>\n",
       "      <th>brand_1</th>\n",
       "      <th>manufacturer_1</th>\n",
       "      <th>part_number_1</th>\n",
       "      <th>model_number_1</th>\n",
       "      <th>size_1</th>\n",
       "      <th>...</th>\n",
       "      <th>item_dimensions_width_2</th>\n",
       "      <th>item_dimensions_length_2</th>\n",
       "      <th>item_dimensions_height_2</th>\n",
       "      <th>list_price_currency_1</th>\n",
       "      <th>list_price_value_with_tax_1</th>\n",
       "      <th>list_price_currency_2</th>\n",
       "      <th>list_price_value_with_tax_2</th>\n",
       "      <th>imgID_1</th>\n",
       "      <th>imgID_2</th>\n",
       "      <th>ID</th>\n",
       "    </tr>\n",
       "  </thead>\n",
       "  <tbody>\n",
       "    <tr>\n",
       "      <th>0</th>\n",
       "      <td>NaN</td>\n",
       "      <td>OFFICE_PRODUCTS</td>\n",
       "      <td>Charlyn Woodruff - CW Designs Monogram - Squar...</td>\n",
       "      <td>NaN</td>\n",
       "      <td>NaN</td>\n",
       "      <td>NaN</td>\n",
       "      <td>3dRose LLC</td>\n",
       "      <td>NaN</td>\n",
       "      <td>NaN</td>\n",
       "      <td>NaN</td>\n",
       "      <td>...</td>\n",
       "      <td>NaN</td>\n",
       "      <td>NaN</td>\n",
       "      <td>NaN</td>\n",
       "      <td>NaN</td>\n",
       "      <td>NaN</td>\n",
       "      <td>NaN</td>\n",
       "      <td>NaN</td>\n",
       "      <td>41y91fNgZqL</td>\n",
       "      <td>510nboKsU5L</td>\n",
       "      <td>7dd5ed12f418440c9aa46813732ff7a3</td>\n",
       "    </tr>\n",
       "    <tr>\n",
       "      <th>1</th>\n",
       "      <td>NaN</td>\n",
       "      <td>HOBBIES</td>\n",
       "      <td>Propeller Guard Protector for DJI Mavic 2 Pro/...</td>\n",
       "      <td>Easy installation;Installing and removing the ...</td>\n",
       "      <td>Propeller Guard Protector for DJI Mavic 2 Pro/...</td>\n",
       "      <td>XSD MODEL</td>\n",
       "      <td>PGYTECH</td>\n",
       "      <td>681385399035</td>\n",
       "      <td>NaN</td>\n",
       "      <td>NaN</td>\n",
       "      <td>...</td>\n",
       "      <td>NaN</td>\n",
       "      <td>NaN</td>\n",
       "      <td>NaN</td>\n",
       "      <td>NaN</td>\n",
       "      <td>NaN</td>\n",
       "      <td>NaN</td>\n",
       "      <td>NaN</td>\n",
       "      <td>41of5Aiv0jL</td>\n",
       "      <td>41of5Aiv0jL</td>\n",
       "      <td>7cbdc2cff2d44b15852302f15ac718dc</td>\n",
       "    </tr>\n",
       "    <tr>\n",
       "      <th>2</th>\n",
       "      <td>NaN</td>\n",
       "      <td>WIRELESS_ACCESSORY</td>\n",
       "      <td>Multi USB Charging Cable</td>\n",
       "      <td>0</td>\n",
       "      <td>0</td>\n",
       "      <td>MuchCORD</td>\n",
       "      <td>MuchCORD</td>\n",
       "      <td>NaN</td>\n",
       "      <td>NaN</td>\n",
       "      <td>4 Feet</td>\n",
       "      <td>...</td>\n",
       "      <td>NaN</td>\n",
       "      <td>NaN</td>\n",
       "      <td>NaN</td>\n",
       "      <td>NaN</td>\n",
       "      <td>NaN</td>\n",
       "      <td>NaN</td>\n",
       "      <td>NaN</td>\n",
       "      <td>41UwfSHCuEL</td>\n",
       "      <td>41UwfSHCuEL</td>\n",
       "      <td>fc50670a76ee4e25bf8fc56ce604877d</td>\n",
       "    </tr>\n",
       "    <tr>\n",
       "      <th>3</th>\n",
       "      <td>NaN</td>\n",
       "      <td>KITCHEN</td>\n",
       "      <td>Creative Converting Touch of Color 20 Count Pl...</td>\n",
       "      <td>NaN</td>\n",
       "      <td>10. 25-Inch premium plastic banquet plates in ...</td>\n",
       "      <td>Creative Converting</td>\n",
       "      <td>Creative Converting</td>\n",
       "      <td>28313131</td>\n",
       "      <td>28313131</td>\n",
       "      <td>One Size</td>\n",
       "      <td>...</td>\n",
       "      <td>NaN</td>\n",
       "      <td>NaN</td>\n",
       "      <td>NaN</td>\n",
       "      <td>NaN</td>\n",
       "      <td>NaN</td>\n",
       "      <td>NaN</td>\n",
       "      <td>NaN</td>\n",
       "      <td>41gzBI7mLXL</td>\n",
       "      <td>41gzBI7mLXL</td>\n",
       "      <td>f11b496a223149aeb8c48d364940e64a</td>\n",
       "    </tr>\n",
       "    <tr>\n",
       "      <th>4</th>\n",
       "      <td>NaN</td>\n",
       "      <td>VIDEO_DVD</td>\n",
       "      <td>20th Century Fox Studio Classics (The Blue Max...</td>\n",
       "      <td>NaN</td>\n",
       "      <td>NaN</td>\n",
       "      <td>NaN</td>\n",
       "      <td>NaN</td>\n",
       "      <td>NaN</td>\n",
       "      <td>NaN</td>\n",
       "      <td>NaN</td>\n",
       "      <td>...</td>\n",
       "      <td>NaN</td>\n",
       "      <td>NaN</td>\n",
       "      <td>NaN</td>\n",
       "      <td>NaN</td>\n",
       "      <td>NaN</td>\n",
       "      <td>NaN</td>\n",
       "      <td>NaN</td>\n",
       "      <td>51b6p9J1AOL</td>\n",
       "      <td>51Ol7lW9VbL</td>\n",
       "      <td>afcc880457644c0d99fb3695ad062e47</td>\n",
       "    </tr>\n",
       "  </tbody>\n",
       "</table>\n",
       "<p>5 rows × 64 columns</p>\n",
       "</div>"
      ],
      "text/plain": [
       "   list_price_value_1      product_type_1  \\\n",
       "0                 NaN     OFFICE_PRODUCTS   \n",
       "1                 NaN             HOBBIES   \n",
       "2                 NaN  WIRELESS_ACCESSORY   \n",
       "3                 NaN             KITCHEN   \n",
       "4                 NaN           VIDEO_DVD   \n",
       "\n",
       "                                         item_name_1  \\\n",
       "0  Charlyn Woodruff - CW Designs Monogram - Squar...   \n",
       "1  Propeller Guard Protector for DJI Mavic 2 Pro/...   \n",
       "2                           Multi USB Charging Cable   \n",
       "3  Creative Converting Touch of Color 20 Count Pl...   \n",
       "4  20th Century Fox Studio Classics (The Blue Max...   \n",
       "\n",
       "                               product_description_1  \\\n",
       "0                                                NaN   \n",
       "1  Easy installation;Installing and removing the ...   \n",
       "2                                                  0   \n",
       "3                                                NaN   \n",
       "4                                                NaN   \n",
       "\n",
       "                                      bullet_point_1              brand_1  \\\n",
       "0                                                NaN                  NaN   \n",
       "1  Propeller Guard Protector for DJI Mavic 2 Pro/...            XSD MODEL   \n",
       "2                                                  0             MuchCORD   \n",
       "3  10. 25-Inch premium plastic banquet plates in ...  Creative Converting   \n",
       "4                                                NaN                  NaN   \n",
       "\n",
       "        manufacturer_1 part_number_1 model_number_1    size_1  ...  \\\n",
       "0           3dRose LLC           NaN            NaN       NaN  ...   \n",
       "1              PGYTECH  681385399035            NaN       NaN  ...   \n",
       "2             MuchCORD           NaN            NaN    4 Feet  ...   \n",
       "3  Creative Converting      28313131       28313131  One Size  ...   \n",
       "4                  NaN           NaN            NaN       NaN  ...   \n",
       "\n",
       "  item_dimensions_width_2  item_dimensions_length_2 item_dimensions_height_2  \\\n",
       "0                     NaN                       NaN                      NaN   \n",
       "1                     NaN                       NaN                      NaN   \n",
       "2                     NaN                       NaN                      NaN   \n",
       "3                     NaN                       NaN                      NaN   \n",
       "4                     NaN                       NaN                      NaN   \n",
       "\n",
       "  list_price_currency_1 list_price_value_with_tax_1 list_price_currency_2  \\\n",
       "0                   NaN                         NaN                   NaN   \n",
       "1                   NaN                         NaN                   NaN   \n",
       "2                   NaN                         NaN                   NaN   \n",
       "3                   NaN                         NaN                   NaN   \n",
       "4                   NaN                         NaN                   NaN   \n",
       "\n",
       "  list_price_value_with_tax_2      imgID_1      imgID_2  \\\n",
       "0                         NaN  41y91fNgZqL  510nboKsU5L   \n",
       "1                         NaN  41of5Aiv0jL  41of5Aiv0jL   \n",
       "2                         NaN  41UwfSHCuEL  41UwfSHCuEL   \n",
       "3                         NaN  41gzBI7mLXL  41gzBI7mLXL   \n",
       "4                         NaN  51b6p9J1AOL  51Ol7lW9VbL   \n",
       "\n",
       "                                 ID  \n",
       "0  7dd5ed12f418440c9aa46813732ff7a3  \n",
       "1  7cbdc2cff2d44b15852302f15ac718dc  \n",
       "2  fc50670a76ee4e25bf8fc56ce604877d  \n",
       "3  f11b496a223149aeb8c48d364940e64a  \n",
       "4  afcc880457644c0d99fb3695ad062e47  \n",
       "\n",
       "[5 rows x 64 columns]"
      ]
     },
     "execution_count": 41,
     "metadata": {},
     "output_type": "execute_result"
    }
   ],
   "source": [
    "df_train.head()"
   ]
  },
  {
   "cell_type": "code",
   "execution_count": 42,
   "id": "c5a76a5c",
   "metadata": {},
   "outputs": [
    {
     "data": {
      "text/html": [
       "<div>\n",
       "<style scoped>\n",
       "    .dataframe tbody tr th:only-of-type {\n",
       "        vertical-align: middle;\n",
       "    }\n",
       "\n",
       "    .dataframe tbody tr th {\n",
       "        vertical-align: top;\n",
       "    }\n",
       "\n",
       "    .dataframe thead th {\n",
       "        text-align: right;\n",
       "    }\n",
       "</style>\n",
       "<table border=\"1\" class=\"dataframe\">\n",
       "  <thead>\n",
       "    <tr style=\"text-align: right;\">\n",
       "      <th></th>\n",
       "      <th>list_price_value_1</th>\n",
       "      <th>product_type_1</th>\n",
       "      <th>item_name_1</th>\n",
       "      <th>product_description_1</th>\n",
       "      <th>bullet_point_1</th>\n",
       "      <th>brand_1</th>\n",
       "      <th>manufacturer_1</th>\n",
       "      <th>part_number_1</th>\n",
       "      <th>model_number_1</th>\n",
       "      <th>size_1</th>\n",
       "      <th>...</th>\n",
       "      <th>item_dimensions_width_2</th>\n",
       "      <th>item_dimensions_length_2</th>\n",
       "      <th>item_dimensions_height_2</th>\n",
       "      <th>list_price_currency_1</th>\n",
       "      <th>list_price_value_with_tax_1</th>\n",
       "      <th>list_price_currency_2</th>\n",
       "      <th>list_price_value_with_tax_2</th>\n",
       "      <th>imgID_1</th>\n",
       "      <th>imgID_2</th>\n",
       "      <th>ID</th>\n",
       "    </tr>\n",
       "  </thead>\n",
       "  <tbody>\n",
       "    <tr>\n",
       "      <th>0</th>\n",
       "      <td>NaN</td>\n",
       "      <td>HEADPHONES</td>\n",
       "      <td>Bluetooth Headphones, ESTAVEL Wireless Sports ...</td>\n",
       "      <td>The model number is HT-BT03&lt;br&gt;&lt;br&gt;&lt;b&gt;[Waterpr...</td>\n",
       "      <td>[SUPER QUALITY&amp;AMAZING BASS]This sport wireles...</td>\n",
       "      <td>ESTAVEL</td>\n",
       "      <td>ESTAVEL</td>\n",
       "      <td>HT</td>\n",
       "      <td>NaN</td>\n",
       "      <td>Black</td>\n",
       "      <td>...</td>\n",
       "      <td>NaN</td>\n",
       "      <td>NaN</td>\n",
       "      <td>NaN</td>\n",
       "      <td>NaN</td>\n",
       "      <td>NaN</td>\n",
       "      <td>NaN</td>\n",
       "      <td>NaN</td>\n",
       "      <td>41rS6EmkzTL</td>\n",
       "      <td>41wxxq7168L</td>\n",
       "      <td>d612d10afd8242c892ad2c697cc64cd8</td>\n",
       "    </tr>\n",
       "    <tr>\n",
       "      <th>1</th>\n",
       "      <td>NaN</td>\n",
       "      <td>SOUND_AND_RECORDING_EQUIPMENT</td>\n",
       "      <td>Rane TTM57 MKII Club/DJ Mixer W/Serato DJ+Dual...</td>\n",
       "      <td>The TTM57mkII stays true to its original desig...</td>\n",
       "      <td>Rane TTM57 MKII Club/DJ Mixer W/Serato DJ+Dire...</td>\n",
       "      <td>Rane</td>\n",
       "      <td>Rane</td>\n",
       "      <td>TTM57 MKII+BRLRMXBP1+RED WAVE+ATM510</td>\n",
       "      <td>TTM57 MKII+BRLRMXBP1+RED WAVE+ATM510</td>\n",
       "      <td>NaN</td>\n",
       "      <td>...</td>\n",
       "      <td>NaN</td>\n",
       "      <td>NaN</td>\n",
       "      <td>NaN</td>\n",
       "      <td>NaN</td>\n",
       "      <td>NaN</td>\n",
       "      <td>NaN</td>\n",
       "      <td>NaN</td>\n",
       "      <td>510Tc3DmEBL</td>\n",
       "      <td>51qWaOS8ytL</td>\n",
       "      <td>faf5a521ca994cc889d6db29ecdb82e0</td>\n",
       "    </tr>\n",
       "    <tr>\n",
       "      <th>2</th>\n",
       "      <td>NaN</td>\n",
       "      <td>STICKER_DECAL</td>\n",
       "      <td>Cartoon Sticker '' Sesame Street Elmo Cartoon ''</td>\n",
       "      <td>-Gently peel off the sticker by nail tip.\\n-Cl...</td>\n",
       "      <td>Decorate photo albums, notebooks,moblie, car,m...</td>\n",
       "      <td>Hometown</td>\n",
       "      <td>Sticker</td>\n",
       "      <td>NaN</td>\n",
       "      <td>NaN</td>\n",
       "      <td>NaN</td>\n",
       "      <td>...</td>\n",
       "      <td>NaN</td>\n",
       "      <td>NaN</td>\n",
       "      <td>NaN</td>\n",
       "      <td>NaN</td>\n",
       "      <td>NaN</td>\n",
       "      <td>NaN</td>\n",
       "      <td>NaN</td>\n",
       "      <td>51rWGz3k8OL</td>\n",
       "      <td>51rWGz3k8OL</td>\n",
       "      <td>0a873fd0823b4e6da423aedfb3119de9</td>\n",
       "    </tr>\n",
       "    <tr>\n",
       "      <th>3</th>\n",
       "      <td>NaN</td>\n",
       "      <td>AUTO_PART</td>\n",
       "      <td>XENON HALOGEN FOG LIGHTS For 05-10 NISSAN NAVA...</td>\n",
       "      <td>This auction includes a complete fog lamp kit ...</td>\n",
       "      <td>(2) 55 Watt 4100K Xenon Halogen Lamps</td>\n",
       "      <td>BlingLights</td>\n",
       "      <td>NaN</td>\n",
       "      <td>bl-300w-d4-navara</td>\n",
       "      <td>NaN</td>\n",
       "      <td>NaN</td>\n",
       "      <td>...</td>\n",
       "      <td>NaN</td>\n",
       "      <td>NaN</td>\n",
       "      <td>NaN</td>\n",
       "      <td>NaN</td>\n",
       "      <td>NaN</td>\n",
       "      <td>NaN</td>\n",
       "      <td>NaN</td>\n",
       "      <td>41SuFxTWs2L</td>\n",
       "      <td>41SuFxTWs2L</td>\n",
       "      <td>cadf42deef854462b1f9adcb2ab8ce2b</td>\n",
       "    </tr>\n",
       "    <tr>\n",
       "      <th>4</th>\n",
       "      <td>NaN</td>\n",
       "      <td>PERSONAL_CARE_APPLIANCE</td>\n",
       "      <td>Little Sunny 7.6Inch Premium Dildo, Classical ...</td>\n",
       "      <td>&lt;BR&gt;Product Description: &lt;BR&gt;All dildo cock fr...</td>\n",
       "      <td>Made of 100% pure liquid silicone, safe ,odorl...</td>\n",
       "      <td>Little Sunny</td>\n",
       "      <td>Little Sunny</td>\n",
       "      <td>AAC570717022</td>\n",
       "      <td>NaN</td>\n",
       "      <td>NaN</td>\n",
       "      <td>...</td>\n",
       "      <td>NaN</td>\n",
       "      <td>NaN</td>\n",
       "      <td>NaN</td>\n",
       "      <td>NaN</td>\n",
       "      <td>NaN</td>\n",
       "      <td>NaN</td>\n",
       "      <td>NaN</td>\n",
       "      <td>41DUNzQGZqL</td>\n",
       "      <td>41DUNzQGZqL</td>\n",
       "      <td>278dfd58a7c8412aa7e2b3c5bc21438c</td>\n",
       "    </tr>\n",
       "  </tbody>\n",
       "</table>\n",
       "<p>5 rows × 63 columns</p>\n",
       "</div>"
      ],
      "text/plain": [
       "   list_price_value_1                 product_type_1  \\\n",
       "0                 NaN                     HEADPHONES   \n",
       "1                 NaN  SOUND_AND_RECORDING_EQUIPMENT   \n",
       "2                 NaN                  STICKER_DECAL   \n",
       "3                 NaN                      AUTO_PART   \n",
       "4                 NaN        PERSONAL_CARE_APPLIANCE   \n",
       "\n",
       "                                         item_name_1  \\\n",
       "0  Bluetooth Headphones, ESTAVEL Wireless Sports ...   \n",
       "1  Rane TTM57 MKII Club/DJ Mixer W/Serato DJ+Dual...   \n",
       "2   Cartoon Sticker '' Sesame Street Elmo Cartoon ''   \n",
       "3  XENON HALOGEN FOG LIGHTS For 05-10 NISSAN NAVA...   \n",
       "4  Little Sunny 7.6Inch Premium Dildo, Classical ...   \n",
       "\n",
       "                               product_description_1  \\\n",
       "0  The model number is HT-BT03<br><br><b>[Waterpr...   \n",
       "1  The TTM57mkII stays true to its original desig...   \n",
       "2  -Gently peel off the sticker by nail tip.\\n-Cl...   \n",
       "3  This auction includes a complete fog lamp kit ...   \n",
       "4  <BR>Product Description: <BR>All dildo cock fr...   \n",
       "\n",
       "                                      bullet_point_1       brand_1  \\\n",
       "0  [SUPER QUALITY&AMAZING BASS]This sport wireles...       ESTAVEL   \n",
       "1  Rane TTM57 MKII Club/DJ Mixer W/Serato DJ+Dire...          Rane   \n",
       "2  Decorate photo albums, notebooks,moblie, car,m...      Hometown   \n",
       "3              (2) 55 Watt 4100K Xenon Halogen Lamps   BlingLights   \n",
       "4  Made of 100% pure liquid silicone, safe ,odorl...  Little Sunny   \n",
       "\n",
       "  manufacturer_1                         part_number_1  \\\n",
       "0        ESTAVEL                                    HT   \n",
       "1           Rane  TTM57 MKII+BRLRMXBP1+RED WAVE+ATM510   \n",
       "2        Sticker                                   NaN   \n",
       "3            NaN                     bl-300w-d4-navara   \n",
       "4   Little Sunny                          AAC570717022   \n",
       "\n",
       "                         model_number_1 size_1  ... item_dimensions_width_2  \\\n",
       "0                                   NaN  Black  ...                     NaN   \n",
       "1  TTM57 MKII+BRLRMXBP1+RED WAVE+ATM510    NaN  ...                     NaN   \n",
       "2                                   NaN    NaN  ...                     NaN   \n",
       "3                                   NaN    NaN  ...                     NaN   \n",
       "4                                   NaN    NaN  ...                     NaN   \n",
       "\n",
       "   item_dimensions_length_2 item_dimensions_height_2 list_price_currency_1  \\\n",
       "0                       NaN                      NaN                   NaN   \n",
       "1                       NaN                      NaN                   NaN   \n",
       "2                       NaN                      NaN                   NaN   \n",
       "3                       NaN                      NaN                   NaN   \n",
       "4                       NaN                      NaN                   NaN   \n",
       "\n",
       "  list_price_value_with_tax_1 list_price_currency_2  \\\n",
       "0                         NaN                   NaN   \n",
       "1                         NaN                   NaN   \n",
       "2                         NaN                   NaN   \n",
       "3                         NaN                   NaN   \n",
       "4                         NaN                   NaN   \n",
       "\n",
       "  list_price_value_with_tax_2      imgID_1      imgID_2  \\\n",
       "0                         NaN  41rS6EmkzTL  41wxxq7168L   \n",
       "1                         NaN  510Tc3DmEBL  51qWaOS8ytL   \n",
       "2                         NaN  51rWGz3k8OL  51rWGz3k8OL   \n",
       "3                         NaN  41SuFxTWs2L  41SuFxTWs2L   \n",
       "4                         NaN  41DUNzQGZqL  41DUNzQGZqL   \n",
       "\n",
       "                                 ID  \n",
       "0  d612d10afd8242c892ad2c697cc64cd8  \n",
       "1  faf5a521ca994cc889d6db29ecdb82e0  \n",
       "2  0a873fd0823b4e6da423aedfb3119de9  \n",
       "3  cadf42deef854462b1f9adcb2ab8ce2b  \n",
       "4  278dfd58a7c8412aa7e2b3c5bc21438c  \n",
       "\n",
       "[5 rows x 63 columns]"
      ]
     },
     "execution_count": 42,
     "metadata": {},
     "output_type": "execute_result"
    }
   ],
   "source": [
    "df_test.head()"
   ]
  },
  {
   "cell_type": "code",
   "execution_count": 43,
   "id": "6449b949",
   "metadata": {},
   "outputs": [],
   "source": [
    "label_col = 'label'"
   ]
  },
  {
   "cell_type": "code",
   "execution_count": 44,
   "id": "36306f82",
   "metadata": {},
   "outputs": [],
   "source": [
    "image_path = '../data/images/'\n",
    "image_col1 = 'imgID_1'\n",
    "image_col2 = 'imgID_2'\n"
   ]
  },
  {
   "cell_type": "code",
   "execution_count": 45,
   "id": "ef7a6785",
   "metadata": {},
   "outputs": [],
   "source": [
    "def path_expander(path, base_folder):\n",
    "    path = path +'.jpg'\n",
    "    path_l = path.split(';')\n",
    "    return ';'.join([os.path.abspath(os.path.join(base_folder, path)) for path in path_l])\n"
   ]
  },
  {
   "cell_type": "markdown",
   "id": "72456711",
   "metadata": {},
   "source": [
    "\n",
    "We need to expand the image paths to load them in training.\n"
   ]
  },
  {
   "cell_type": "code",
   "execution_count": 46,
   "id": "a0843442",
   "metadata": {},
   "outputs": [
    {
     "data": {
      "text/plain": [
       "'/home/ec2-user/SageMaker/data/images/41y91fNgZqL.jpg'"
      ]
     },
     "execution_count": 46,
     "metadata": {},
     "output_type": "execute_result"
    }
   ],
   "source": [
    "df_train[image_col1] = df_train[image_col1].apply(lambda ele: path_expander(ele, base_folder=image_path))\n",
    "df_test[image_col1] = df_test[image_col1].apply(lambda ele: path_expander(ele, base_folder=image_path))\n",
    "\n",
    "df_train[image_col1].iloc[0]"
   ]
  },
  {
   "cell_type": "code",
   "execution_count": 47,
   "id": "bc4161e6",
   "metadata": {},
   "outputs": [
    {
     "data": {
      "text/plain": [
       "'/home/ec2-user/SageMaker/data/images/510nboKsU5L.jpg'"
      ]
     },
     "execution_count": 47,
     "metadata": {},
     "output_type": "execute_result"
    }
   ],
   "source": [
    "df_train[image_col2] = df_train[image_col2].apply(lambda ele: path_expander(ele, base_folder=image_path))\n",
    "df_test[image_col2] = df_test[image_col2].apply(lambda ele: path_expander(ele, base_folder=image_path))\n",
    "\n",
    "df_train[image_col2].iloc[0]"
   ]
  },
  {
   "cell_type": "markdown",
   "id": "e99dc16e",
   "metadata": {},
   "source": [
    "Each row includes a pair of item names, image IDs, product description, and various tabular features such as item package quantity, list price value, and product weight. \n",
    "Let's look at an example row of data and display the text description and a picture."
   ]
  },
  {
   "cell_type": "code",
   "execution_count": 48,
   "id": "98d3d8e1",
   "metadata": {},
   "outputs": [
    {
     "data": {
      "text/plain": [
       "list_price_value_1                                                           NaN\n",
       "product_type_1                                                   OFFICE_PRODUCTS\n",
       "item_name_1                    Charlyn Woodruff - CW Designs Monogram - Squar...\n",
       "product_description_1                                                        NaN\n",
       "bullet_point_1                                                               NaN\n",
       "                                                     ...                        \n",
       "list_price_currency_2                                                        NaN\n",
       "list_price_value_with_tax_2                                                  NaN\n",
       "imgID_1                        /home/ec2-user/SageMaker/data/images/41y91fNgZ...\n",
       "imgID_2                        /home/ec2-user/SageMaker/data/images/510nboKsU...\n",
       "ID                                              7dd5ed12f418440c9aa46813732ff7a3\n",
       "Name: 0, Length: 64, dtype: object"
      ]
     },
     "execution_count": 48,
     "metadata": {},
     "output_type": "execute_result"
    }
   ],
   "source": [
    "example_row = df_train.iloc[0]\n",
    "example_row"
   ]
  },
  {
   "cell_type": "code",
   "execution_count": 49,
   "id": "8065ea74",
   "metadata": {},
   "outputs": [
    {
     "data": {
      "text/plain": [
       "'Charlyn Woodruff - CW Designs Monogram - Squares - Modern Geometric Black Red Grey Square Pattern Monogram Letter A - MousePad (mp_215218_1)'"
      ]
     },
     "execution_count": 49,
     "metadata": {},
     "output_type": "execute_result"
    }
   ],
   "source": [
    "example_row['item_name_1']"
   ]
  },
  {
   "cell_type": "code",
   "execution_count": 50,
   "id": "9b8a21f7",
   "metadata": {},
   "outputs": [
    {
     "data": {
      "image/jpeg": "[encoded data removed]",
      "text/plain": [
       "<IPython.core.display.Image object>"
      ]
     },
     "metadata": {},
     "output_type": "display_data"
    },
    {
     "data": {
      "image/jpeg": "[encoded data removed]",
      "text/plain": [
       "<IPython.core.display.Image object>"
      ]
     },
     "metadata": {},
     "output_type": "display_data"
    }
   ],
   "source": [
    "example_image1 = example_row[image_col1]\n",
    "example_image2 = example_row[image_col2]\n",
    "\n",
    "from IPython.display import Image, display\n",
    "pil_img1 = Image(filename=example_image1)\n",
    "display(pil_img1)\n",
    "pil_img2 = Image(filename=example_image2)\n",
    "display(pil_img2)"
   ]
  },
  {
   "cell_type": "code",
   "execution_count": 51,
   "id": "58f0e351",
   "metadata": {},
   "outputs": [
    {
     "data": {
      "text/html": [
       "<div>\n",
       "<style scoped>\n",
       "    .dataframe tbody tr th:only-of-type {\n",
       "        vertical-align: middle;\n",
       "    }\n",
       "\n",
       "    .dataframe tbody tr th {\n",
       "        vertical-align: top;\n",
       "    }\n",
       "\n",
       "    .dataframe thead th {\n",
       "        text-align: right;\n",
       "    }\n",
       "</style>\n",
       "<table border=\"1\" class=\"dataframe\">\n",
       "  <thead>\n",
       "    <tr style=\"text-align: right;\">\n",
       "      <th></th>\n",
       "      <th>item_name_1</th>\n",
       "      <th>item_name_2</th>\n",
       "      <th>item_package_quantity_1</th>\n",
       "      <th>item_package_quantity_2</th>\n",
       "      <th>imgID_1</th>\n",
       "      <th>imgID_2</th>\n",
       "      <th>label</th>\n",
       "    </tr>\n",
       "  </thead>\n",
       "  <tbody>\n",
       "    <tr>\n",
       "      <th>7199</th>\n",
       "      <td>Gem Stone King 10.00 Ct Round Cut Stunning Cub...</td>\n",
       "      <td>Gem Stone King 10.00 Ct Round Cut Stunning Cub...</td>\n",
       "      <td>1.0</td>\n",
       "      <td>1.0</td>\n",
       "      <td>/home/ec2-user/SageMaker/data/images/41kUCrQrT...</td>\n",
       "      <td>/home/ec2-user/SageMaker/data/images/41kUCrQrT...</td>\n",
       "      <td>0</td>\n",
       "    </tr>\n",
       "    <tr>\n",
       "      <th>18532</th>\n",
       "      <td>Orange Circle Studio 2019 Hidden Spiral Agenda...</td>\n",
       "      <td>Orange Circle Studio 2019 Hidden Spiral Agenda...</td>\n",
       "      <td>1.0</td>\n",
       "      <td>NaN</td>\n",
       "      <td>/home/ec2-user/SageMaker/data/images/51ud799kH...</td>\n",
       "      <td>/home/ec2-user/SageMaker/data/images/61+Y5aPcf...</td>\n",
       "      <td>0</td>\n",
       "    </tr>\n",
       "    <tr>\n",
       "      <th>18501</th>\n",
       "      <td>9\" x 100' Black EPDM 60 mil P &amp; S CURED RUBBER...</td>\n",
       "      <td>FBA 9\" x 100' Black EPDM 60 mil P &amp; S Cured Ru...</td>\n",
       "      <td>1.0</td>\n",
       "      <td>1.0</td>\n",
       "      <td>/home/ec2-user/SageMaker/data/images/51xNNSO78...</td>\n",
       "      <td>/home/ec2-user/SageMaker/data/images/51xNNSO78...</td>\n",
       "      <td>1</td>\n",
       "    </tr>\n",
       "    <tr>\n",
       "      <th>11334</th>\n",
       "      <td>Frontier Bulk Lemon Peel Granules, ORGANIC, 1 ...</td>\n",
       "      <td>Frontier Bulk Bac'Uns Vegetarian Bits, ORGANIC...</td>\n",
       "      <td>2.0</td>\n",
       "      <td>2.0</td>\n",
       "      <td>/home/ec2-user/SageMaker/data/images/31wD2KS80...</td>\n",
       "      <td>/home/ec2-user/SageMaker/data/images/31wD2KS80...</td>\n",
       "      <td>0</td>\n",
       "    </tr>\n",
       "    <tr>\n",
       "      <th>13020</th>\n",
       "      <td>Blue Sea 7242 A-Series Double Pole Toggle - 50...</td>\n",
       "      <td>BLUE SEA SYSTEMS 7242 / Blue Sea 7242 A-Series...</td>\n",
       "      <td>1.0</td>\n",
       "      <td>1.0</td>\n",
       "      <td>/home/ec2-user/SageMaker/data/images/51Opc1sQW...</td>\n",
       "      <td>/home/ec2-user/SageMaker/data/images/51Opc1sQW...</td>\n",
       "      <td>1</td>\n",
       "    </tr>\n",
       "  </tbody>\n",
       "</table>\n",
       "</div>"
      ],
      "text/plain": [
       "                                             item_name_1  \\\n",
       "7199   Gem Stone King 10.00 Ct Round Cut Stunning Cub...   \n",
       "18532  Orange Circle Studio 2019 Hidden Spiral Agenda...   \n",
       "18501  9\" x 100' Black EPDM 60 mil P & S CURED RUBBER...   \n",
       "11334  Frontier Bulk Lemon Peel Granules, ORGANIC, 1 ...   \n",
       "13020  Blue Sea 7242 A-Series Double Pole Toggle - 50...   \n",
       "\n",
       "                                             item_name_2  \\\n",
       "7199   Gem Stone King 10.00 Ct Round Cut Stunning Cub...   \n",
       "18532  Orange Circle Studio 2019 Hidden Spiral Agenda...   \n",
       "18501  FBA 9\" x 100' Black EPDM 60 mil P & S Cured Ru...   \n",
       "11334  Frontier Bulk Bac'Uns Vegetarian Bits, ORGANIC...   \n",
       "13020  BLUE SEA SYSTEMS 7242 / Blue Sea 7242 A-Series...   \n",
       "\n",
       "       item_package_quantity_1  item_package_quantity_2  \\\n",
       "7199                       1.0                      1.0   \n",
       "18532                      1.0                      NaN   \n",
       "18501                      1.0                      1.0   \n",
       "11334                      2.0                      2.0   \n",
       "13020                      1.0                      1.0   \n",
       "\n",
       "                                                 imgID_1  \\\n",
       "7199   /home/ec2-user/SageMaker/data/images/41kUCrQrT...   \n",
       "18532  /home/ec2-user/SageMaker/data/images/51ud799kH...   \n",
       "18501  /home/ec2-user/SageMaker/data/images/51xNNSO78...   \n",
       "11334  /home/ec2-user/SageMaker/data/images/31wD2KS80...   \n",
       "13020  /home/ec2-user/SageMaker/data/images/51Opc1sQW...   \n",
       "\n",
       "                                                 imgID_2  label  \n",
       "7199   /home/ec2-user/SageMaker/data/images/41kUCrQrT...      0  \n",
       "18532  /home/ec2-user/SageMaker/data/images/61+Y5aPcf...      0  \n",
       "18501  /home/ec2-user/SageMaker/data/images/51xNNSO78...      1  \n",
       "11334  /home/ec2-user/SageMaker/data/images/31wD2KS80...      0  \n",
       "13020  /home/ec2-user/SageMaker/data/images/51Opc1sQW...      1  "
      ]
     },
     "execution_count": 51,
     "metadata": {},
     "output_type": "execute_result"
    }
   ],
   "source": [
    "train_data, val_data = train_test_split(\n",
    "    df_train[['item_name_1', 'item_name_2', \n",
    "              'item_package_quantity_1', 'item_package_quantity_2', \n",
    "              'imgID_1', 'imgID_2',\n",
    "              'label']],\n",
    "    test_size=0.10,\n",
    "    shuffle=True,\n",
    "    random_state=324,\n",
    ")\n",
    "\n",
    "train_data.head()"
   ]
  },
  {
   "cell_type": "markdown",
   "id": "1100bae2",
   "metadata": {},
   "source": [
    "## <a id=\"Training-the-Predictor-with-Images-and-Text\">Training the Predictor with Images and Text</a> \n",
    "Now let's fit the predictor with the training data. Here we set a tight time budget for a quick demo.\n",
    "\n",
    "(<a href=\"#0\">Go to top</a>)"
   ]
  },
  {
   "cell_type": "code",
   "execution_count": 27,
   "id": "e66d0013",
   "metadata": {},
   "outputs": [
    {
     "name": "stderr",
     "output_type": "stream",
     "text": [
      "Global seed set to 123\n",
      "Auto select gpus: [0]\n",
      "Using 16bit native Automatic Mixed Precision (AMP)\n",
      "GPU available: True, used: True\n",
      "TPU available: False, using: 0 TPU cores\n",
      "IPU available: False, using: 0 IPUs\n",
      "HPU available: False, using: 0 HPUs\n",
      "LOCAL_RANK: 0 - CUDA_VISIBLE_DEVICES: [0]\n",
      "\n",
      "  | Name              | Type                | Params\n",
      "----------------------------------------------------------\n",
      "0 | model             | MultimodalFusionMLP | 109 M \n",
      "1 | validation_metric | AUROC               | 0     \n",
      "2 | loss_func         | CrossEntropyLoss    | 0     \n",
      "----------------------------------------------------------\n",
      "109 M     Trainable params\n",
      "0         Non-trainable params\n",
      "109 M     Total params\n",
      "219.567   Total estimated model params size (MB)\n"
     ]
    },
    {
     "data": {
      "application/vnd.jupyter.widget-view+json": {
       "model_id": "",
       "version_major": 2,
       "version_minor": 0
      },
      "text/plain": [
       "Sanity Checking: 0it [00:00, ?it/s]"
      ]
     },
     "metadata": {},
     "output_type": "display_data"
    },
    {
     "data": {
      "application/vnd.jupyter.widget-view+json": {
       "model_id": "c6db00712d23469abacd861863f9309a",
       "version_major": 2,
       "version_minor": 0
      },
      "text/plain": [
       "Training: 0it [00:00, ?it/s]"
      ]
     },
     "metadata": {},
     "output_type": "display_data"
    },
    {
     "data": {
      "application/vnd.jupyter.widget-view+json": {
       "model_id": "",
       "version_major": 2,
       "version_minor": 0
      },
      "text/plain": [
       "Validation: 0it [00:00, ?it/s]"
      ]
     },
     "metadata": {},
     "output_type": "display_data"
    },
    {
     "name": "stderr",
     "output_type": "stream",
     "text": [
      "Epoch 0, global step 59: 'val_roc_auc' reached 0.75263 (best 0.75263), saving model to '/home/ec2-user/SageMaker/notebooks/AutogluonModels/ag-20220810_015103/epoch=0-step=59.ckpt' as top 3\n",
      "Time limit reached. Elapsed time is 0:02:00. Signaling Trainer to stop.\n"
     ]
    },
    {
     "data": {
      "application/vnd.jupyter.widget-view+json": {
       "model_id": "",
       "version_major": 2,
       "version_minor": 0
      },
      "text/plain": [
       "Validation: 0it [00:00, ?it/s]"
      ]
     },
     "metadata": {},
     "output_type": "display_data"
    },
    {
     "name": "stderr",
     "output_type": "stream",
     "text": [
      "Epoch 0, global step 80: 'val_roc_auc' reached 0.78863 (best 0.78863), saving model to '/home/ec2-user/SageMaker/notebooks/AutogluonModels/ag-20220810_015103/epoch=0-step=80.ckpt' as top 3\n",
      "Start to fuse 2 checkpoints via the greedy soup algorithm.\n"
     ]
    },
    {
     "data": {
      "application/vnd.jupyter.widget-view+json": {
       "model_id": "b9edf3b2d5354e5aa152103aec5e86d4",
       "version_major": 2,
       "version_minor": 0
      },
      "text/plain": [
       "Predicting: 0it [00:00, ?it/s]"
      ]
     },
     "metadata": {},
     "output_type": "display_data"
    },
    {
     "data": {
      "application/vnd.jupyter.widget-view+json": {
       "model_id": "566e2b405ad440b598962b927cf74199",
       "version_major": 2,
       "version_minor": 0
      },
      "text/plain": [
       "Predicting: 0it [00:00, ?it/s]"
      ]
     },
     "metadata": {},
     "output_type": "display_data"
    },
    {
     "data": {
      "text/plain": [
       "<autogluon.multimodal.predictor.AutoMMPredictor at 0x7f892ffd56d0>"
      ]
     },
     "execution_count": 27,
     "metadata": {},
     "output_type": "execute_result"
    }
   ],
   "source": [
    "from autogluon.multimodal import AutoMMPredictor\n",
    "predictor = AutoMMPredictor(label=label_col)\n",
    "predictor.fit(\n",
    "    train_data=train_data,\n",
    "    time_limit=120, # seconds\n",
    ")"
   ]
  },
  {
   "cell_type": "markdown",
   "id": "e83aea5b",
   "metadata": {},
   "source": [
    "Under the hood, AutoMM automatically infers the problem type (classification or regression), detects the data modalities, selects the related models from the multimodal model pools, and trains the selected models. If multiple backbones are available, AutoMM appends a late-fusion model (MLP or transformer) on top of them."
   ]
  },
  {
   "cell_type": "markdown",
   "id": "8dd6eb10",
   "metadata": {},
   "source": [
    "## <a id=\"Model-Evaluation-and-Prediction-with-Full-Multimodal-Predictor\">Model Evaluation and Prediction with Full Multimodal Predictor</a>\n",
    "Then we can evaluate the predictor on the validation data.\n",
    "\n",
    "(<a href=\"#0\">Go to top</a>)"
   ]
  },
  {
   "cell_type": "code",
   "execution_count": 28,
   "id": "1a9b87da",
   "metadata": {},
   "outputs": [
    {
     "data": {
      "application/vnd.jupyter.widget-view+json": {
       "model_id": "f1416f636df747aca91974c39418f3f1",
       "version_major": 2,
       "version_minor": 0
      },
      "text/plain": [
       "Predicting: 0it [00:00, ?it/s]"
      ]
     },
     "metadata": {},
     "output_type": "display_data"
    },
    {
     "data": {
      "text/plain": [
       "{'roc_auc': 0.7768161487650512}"
      ]
     },
     "execution_count": 28,
     "metadata": {},
     "output_type": "execute_result"
    }
   ],
   "source": [
    "scores = predictor.evaluate(val_data, metrics=[\"roc_auc\"])\n",
    "scores"
   ]
  },
  {
   "cell_type": "code",
   "execution_count": 29,
   "id": "4cd2ed69",
   "metadata": {},
   "outputs": [],
   "source": [
    "test_data = df_test[['item_name_1', 'item_name_2', \n",
    "              'item_package_quantity_1', 'item_package_quantity_2', \n",
    "              'imgID_1', 'imgID_2']]"
   ]
  },
  {
   "cell_type": "markdown",
   "id": "9dbc2d5a",
   "metadata": {},
   "source": [
    "### Prediction\n",
    "Given a multimodal dataframe without the label column, we can predict the labels."
   ]
  },
  {
   "cell_type": "code",
   "execution_count": 30,
   "id": "22b40bc3",
   "metadata": {},
   "outputs": [
    {
     "data": {
      "application/vnd.jupyter.widget-view+json": {
       "model_id": "e5cca24a7c5a47bd9cc45e773beb0a53",
       "version_major": 2,
       "version_minor": 0
      },
      "text/plain": [
       "Predicting: 0it [00:00, ?it/s]"
      ]
     },
     "metadata": {},
     "output_type": "display_data"
    },
    {
     "data": {
      "text/plain": [
       "0    0\n",
       "1    0\n",
       "2    0\n",
       "3    0\n",
       "4    0\n",
       "Name: label, dtype: int64"
      ]
     },
     "execution_count": 30,
     "metadata": {},
     "output_type": "execute_result"
    }
   ],
   "source": [
    "predictions = predictor.predict(test_data)\n",
    "predictions[:5]"
   ]
  },
  {
   "cell_type": "markdown",
   "id": "f0e5f0cd",
   "metadata": {},
   "source": [
    "For classification tasks, we can get the probabilities of all classes."
   ]
  },
  {
   "cell_type": "code",
   "execution_count": 31,
   "id": "be9358b4",
   "metadata": {},
   "outputs": [
    {
     "data": {
      "application/vnd.jupyter.widget-view+json": {
       "model_id": "a5845453b21c4d83b0ffc6019b4d2e90",
       "version_major": 2,
       "version_minor": 0
      },
      "text/plain": [
       "Predicting: 0it [00:00, ?it/s]"
      ]
     },
     "metadata": {},
     "output_type": "display_data"
    },
    {
     "data": {
      "text/html": [
       "<div>\n",
       "<style scoped>\n",
       "    .dataframe tbody tr th:only-of-type {\n",
       "        vertical-align: middle;\n",
       "    }\n",
       "\n",
       "    .dataframe tbody tr th {\n",
       "        vertical-align: top;\n",
       "    }\n",
       "\n",
       "    .dataframe thead th {\n",
       "        text-align: right;\n",
       "    }\n",
       "</style>\n",
       "<table border=\"1\" class=\"dataframe\">\n",
       "  <thead>\n",
       "    <tr style=\"text-align: right;\">\n",
       "      <th></th>\n",
       "      <th>0</th>\n",
       "      <th>1</th>\n",
       "    </tr>\n",
       "  </thead>\n",
       "  <tbody>\n",
       "    <tr>\n",
       "      <th>0</th>\n",
       "      <td>0.615319</td>\n",
       "      <td>0.384681</td>\n",
       "    </tr>\n",
       "    <tr>\n",
       "      <th>1</th>\n",
       "      <td>0.723041</td>\n",
       "      <td>0.276959</td>\n",
       "    </tr>\n",
       "    <tr>\n",
       "      <th>2</th>\n",
       "      <td>0.536981</td>\n",
       "      <td>0.463019</td>\n",
       "    </tr>\n",
       "    <tr>\n",
       "      <th>3</th>\n",
       "      <td>0.648911</td>\n",
       "      <td>0.351089</td>\n",
       "    </tr>\n",
       "    <tr>\n",
       "      <th>4</th>\n",
       "      <td>0.684633</td>\n",
       "      <td>0.315367</td>\n",
       "    </tr>\n",
       "  </tbody>\n",
       "</table>\n",
       "</div>"
      ],
      "text/plain": [
       "          0         1\n",
       "0  0.615319  0.384681\n",
       "1  0.723041  0.276959\n",
       "2  0.536981  0.463019\n",
       "3  0.648911  0.351089\n",
       "4  0.684633  0.315367"
      ]
     },
     "execution_count": 31,
     "metadata": {},
     "output_type": "execute_result"
    }
   ],
   "source": [
    "probas = predictor.predict_proba(test_data)\n",
    "probas[:5]"
   ]
  },
  {
   "cell_type": "markdown",
   "id": "423ed309",
   "metadata": {},
   "source": [
    "Note that calling `.predict_proba()` on one regression task will throw an exception."
   ]
  },
  {
   "cell_type": "markdown",
   "id": "cf5c0988",
   "metadata": {},
   "source": [
    "### Prediction on the test data"
   ]
  },
  {
   "cell_type": "code",
   "execution_count": 32,
   "id": "8c5ac156",
   "metadata": {},
   "outputs": [
    {
     "data": {
      "application/vnd.jupyter.widget-view+json": {
       "model_id": "8a2c4e0f6216457a89df55e995ca15ac",
       "version_major": 2,
       "version_minor": 0
      },
      "text/plain": [
       "Predicting: 0it [00:00, ?it/s]"
      ]
     },
     "metadata": {},
     "output_type": "display_data"
    },
    {
     "data": {
      "text/plain": [
       "0    0\n",
       "1    0\n",
       "2    0\n",
       "3    0\n",
       "4    0\n",
       "Name: label, dtype: int64"
      ]
     },
     "execution_count": 32,
     "metadata": {},
     "output_type": "execute_result"
    }
   ],
   "source": [
    "test_predictions = predictor.predict(df_test[['item_name_1', 'item_name_2', \n",
    "              'item_package_quantity_1', 'item_package_quantity_2', \n",
    "              'imgID_1', 'imgID_2']])\n",
    "test_predictions.head()"
   ]
  },
  {
   "cell_type": "markdown",
   "id": "c100558d",
   "metadata": {},
   "source": [
    "## <a id=\"Extract-Embeddings-using-Full-Multimodal-Predictor\">Extract Embeddings using Full Multimodal Predictor</a>\n",
    "\n",
    "Extracting embeddings can also be useful in many cases, where we want to convert each sample (per row in the dataframe) into an embedding vector.\n",
    "\n",
    "(<a href=\"#0\">Go to top</a>)"
   ]
  },
  {
   "cell_type": "code",
   "execution_count": 33,
   "id": "6667913b",
   "metadata": {},
   "outputs": [
    {
     "data": {
      "application/vnd.jupyter.widget-view+json": {
       "model_id": "03d4ffd9f5b44c69ad043553494774f0",
       "version_major": 2,
       "version_minor": 0
      },
      "text/plain": [
       "Predicting: 0it [00:00, ?it/s]"
      ]
     },
     "metadata": {},
     "output_type": "display_data"
    },
    {
     "data": {
      "text/plain": [
       "(1000, 128)"
      ]
     },
     "execution_count": 33,
     "metadata": {},
     "output_type": "execute_result"
    }
   ],
   "source": [
    "embeddings = predictor.extract_embedding(test_data)\n",
    "embeddings.shape"
   ]
  },
  {
   "cell_type": "markdown",
   "id": "c4469478",
   "metadata": {},
   "source": [
    "## <a id=\"Save-and-Load-Full-Multimodal-Predictor\">Save and Load Full Multimodal Predictor</a>\n",
    "\n",
    "It is also convenient to save a predictor and re-load it.\n",
    "\n",
    "(<a href=\"#0\">Go to top</a>)"
   ]
  },
  {
   "cell_type": "code",
   "execution_count": 35,
   "id": "f5f8c144",
   "metadata": {},
   "outputs": [],
   "source": [
    "predictor.save('AutogluonModels/MultiModalAll/AutoMMPredictor.ag')\n"
   ]
  },
  {
   "cell_type": "code",
   "execution_count": 36,
   "id": "28bf387e",
   "metadata": {},
   "outputs": [
    {
     "name": "stderr",
     "output_type": "stream",
     "text": [
      "Load pretrained checkpoint: ./AutogluonModels/MultiModalAll/AutoMMPredictor.ag/model.ckpt\n"
     ]
    },
    {
     "data": {
      "application/vnd.jupyter.widget-view+json": {
       "model_id": "af2cf55edd6948ca943a8892c589d25e",
       "version_major": 2,
       "version_minor": 0
      },
      "text/plain": [
       "Predicting: 0it [00:00, ?it/s]"
      ]
     },
     "metadata": {},
     "output_type": "display_data"
    },
    {
     "data": {
      "text/plain": [
       "{'roc_auc': 0.7768161487650512}"
      ]
     },
     "execution_count": 36,
     "metadata": {},
     "output_type": "execute_result"
    }
   ],
   "source": [
    "loaded_predictor = AutoMMPredictor.load('./AutogluonModels/MultiModalAll/AutoMMPredictor.ag')\n",
    "scores2 = loaded_predictor.evaluate(val_data, metrics=[\"roc_auc\"])\n",
    "scores2"
   ]
  },
  {
   "cell_type": "code",
   "execution_count": 37,
   "id": "f33f53c2",
   "metadata": {},
   "outputs": [],
   "source": [
    "#!rm -r AutogluonModels"
   ]
  },
  {
   "cell_type": "markdown",
   "id": "c8cf4ffa",
   "metadata": {},
   "source": [
    "<p style=\"padding: 10px; border: 1px solid black;\">\n",
    "<img src=\"./utils/MLU-NEW-logo.png\" alt=\"drawing\" width=\"400\"/> <br/>\n",
    "\n",
    "# Thank you!"
   ]
  }
 ],
 "metadata": {
  "kernelspec": {
   "display_name": "conda_mlu_wksp_ag",
   "language": "python",
   "name": "conda_mlu_wksp_ag"
  },
  "language_info": {
   "codemirror_mode": {
    "name": "ipython",
    "version": 3
   },
   "file_extension": ".py",
   "mimetype": "text/x-python",
   "name": "python",
   "nbconvert_exporter": "python",
   "pygments_lexer": "ipython3",
   "version": "3.8.13"
  }
 },
 "nbformat": 4,
 "nbformat_minor": 5
}
