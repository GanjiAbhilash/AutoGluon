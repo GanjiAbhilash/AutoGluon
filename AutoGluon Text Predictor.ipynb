{
 "cells": [
  {
   "cell_type": "markdown",
   "id": "412dbc94",
   "metadata": {},
   "source": [
    "<p style=\"padding: 10px; border: 1px solid black;\">\n",
    "<img src=\"./utils/MLU-NEW-logo.png\" alt=\"drawing\" width=\"400\"/> <br/>\n",
    "\n",
    "# <a name=\"0\"> Sentence Similarity using AutoGluon</a>\n",
    "    \n",
    "Here we introduce the `TextPrediction` task, which helps you automatically train and deploy models for various Natural Language Processing (NLP) problems.\n",
    "This notebook presents an examples to quickly demonstrate how `TextPrediction` can be used for the NLP task: Refer to [Sentence Similarity](https://arxiv.org/abs/1910.03940) for more details.\n",
    "\n",
    "The general usage of the TextPredictor is similar to AutoGluon’s TabularPredictor. \n",
    "We format NLP datasets as tables where certain columns contain text fields and a special column contains the labels to predict, and each row corresponds to one training example. \n",
    "Here, the labels can be discrete categories (classification) or numerical values (regression). \n",
    "In fact, TextPredictor also enables training on multi-modal data tables that contain text, numeric and categorical columns and also support solving multilingual problems. \n",
    "You may refer to multimodal / multilingual usage in sec_textprediction_multimodal and Text Prediction - Solving Multilingual Problems.\n",
    "\n",
    "`TextPredictor` fits neural networks to your data via transfer learning from pretrained NLP models like: [BERT](https://arxiv.org/pdf/1810.04805.pdf), [ALBERT](https://arxiv.org/pdf/1909.11942.pdf), and [ELECTRA](https://openreview.net/pdf?id=r1xMH1BtvB).\n",
    "`TextPredictor` also trains multiple models with different hyperparameters and returns the best model, a process called Hyperparameter Optimization (HPO).\n",
    "\n",
    "You may refer to multimodal / multilingual usage in [tutorials/multimodal/beginner_text.ipynb](https://github.com/gidler/autogluon-tutorials/blob/main/tutorials/multimodal/beginner_text.ipynb) and [tutorials/multimodal/multilingual_text.ipynb](https://github.com/gidler/autogluon-tutorials/blob/main/tutorials/multimodal/multilingual_text.ipynb).\n",
    "\n",
    "Note: Please use **GPU** for training, CPU training will lead to an unceasing running script.\n",
    "\n",
    "### <a href=\"#Text-Predictor\">Text Predictor</a>\n",
    "    \n",
    "1. <a href=\"#Sentence-Similarity-Task\">Sentence Similarity Task</a>\n",
    "2. <a href=\"#Model-Evaluation-and-Prediction\"> Model Evaluation and Prediction </a>   \n",
    "3. <a href=\"#Extract-Embeddings\"> Extract Embeddings </a>\n",
    "    \n",
    "### <a href=\"#Text-Predictor:-Advanced-Control\">Text Predictor: Advanced Control</a>\n",
    "\n",
    "1. <a href=\"#Preset-Configurations\"> Preset Configurations </a>\n",
    "2. <a href=\"#Customize-Hyperparameters\"> Customize Hyperparameters </a>"
   ]
  },
  {
   "cell_type": "markdown",
   "id": "4614dc1e",
   "metadata": {},
   "source": [
    "Let's start by loading some libraries and packages!"
   ]
  },
  {
   "cell_type": "code",
   "execution_count": 1,
   "id": "af6600ba",
   "metadata": {},
   "outputs": [],
   "source": [
    "# # install AutoGluon\n",
    "# !pip install -q autogluon"
   ]
  },
  {
   "cell_type": "code",
   "execution_count": 2,
   "id": "6acd7157",
   "metadata": {},
   "outputs": [],
   "source": [
    "%matplotlib inline\n",
    "\n",
    "# Load in libraries\n",
    "import os\n",
    "import pandas as pd\n",
    "import numpy as np\n",
    "from sklearn.model_selection import train_test_split\n",
    "import warnings\n",
    "import matplotlib.pyplot as plt\n",
    "\n",
    "warnings.filterwarnings('ignore')\n",
    "np.random.seed(123)"
   ]
  },
  {
   "cell_type": "markdown",
   "id": "1a66cf87",
   "metadata": {},
   "source": [
    "# <a id=\"Text-Predictor\">Text Predictor</a>\n",
    "\n",
    "Now let's work with `TextPredictor` to understand how to apply Autogluon on NLP tasks.\n",
    "\n",
    "(<a href=\"#0\">Go to top</a>)"
   ]
  },
  {
   "cell_type": "code",
   "execution_count": 3,
   "id": "8747f4cc",
   "metadata": {},
   "outputs": [],
   "source": [
    "# Importing the libraries needed to work with our Text dataset.\n",
    "from autogluon.text import TextPredictor\n",
    "# # Additional library for tuning\n",
    "# import autogluon.core as ag"
   ]
  },
  {
   "cell_type": "markdown",
   "id": "1dcab164",
   "metadata": {},
   "source": [
    "## <a id=\"Sentence-Similarity-Task\">Sentence Similarity Task</a>\n",
    "Next, let's use AutoGluon to train a model for evaluating how semantically similar two sentences are.\n",
    "\n",
    "Let's load the dataset into dataframes. For model evaluation, let's further split the training dataset into a training set and a validation set.\n",
    "\n",
    "(<a href=\"#0\">Go to top</a>)"
   ]
  },
  {
   "cell_type": "code",
   "execution_count": 4,
   "id": "1d176700",
   "metadata": {},
   "outputs": [
    {
     "data": {
      "text/html": [
       "<div>\n",
       "<style scoped>\n",
       "    .dataframe tbody tr th:only-of-type {\n",
       "        vertical-align: middle;\n",
       "    }\n",
       "\n",
       "    .dataframe tbody tr th {\n",
       "        vertical-align: top;\n",
       "    }\n",
       "\n",
       "    .dataframe thead th {\n",
       "        text-align: right;\n",
       "    }\n",
       "</style>\n",
       "<table border=\"1\" class=\"dataframe\">\n",
       "  <thead>\n",
       "    <tr style=\"text-align: right;\">\n",
       "      <th></th>\n",
       "      <th>item_name_1</th>\n",
       "      <th>item_name_2</th>\n",
       "      <th>label</th>\n",
       "    </tr>\n",
       "  </thead>\n",
       "  <tbody>\n",
       "    <tr>\n",
       "      <th>7199</th>\n",
       "      <td>Gem Stone King 10.00 Ct Round Cut Stunning Cub...</td>\n",
       "      <td>Gem Stone King 10.00 Ct Round Cut Stunning Cub...</td>\n",
       "      <td>0</td>\n",
       "    </tr>\n",
       "    <tr>\n",
       "      <th>18532</th>\n",
       "      <td>Orange Circle Studio 2019 Hidden Spiral Agenda...</td>\n",
       "      <td>Orange Circle Studio 2019 Hidden Spiral Agenda...</td>\n",
       "      <td>0</td>\n",
       "    </tr>\n",
       "    <tr>\n",
       "      <th>18501</th>\n",
       "      <td>9\" x 100' Black EPDM 60 mil P &amp; S CURED RUBBER...</td>\n",
       "      <td>FBA 9\" x 100' Black EPDM 60 mil P &amp; S Cured Ru...</td>\n",
       "      <td>1</td>\n",
       "    </tr>\n",
       "    <tr>\n",
       "      <th>11334</th>\n",
       "      <td>Frontier Bulk Lemon Peel Granules, ORGANIC, 1 ...</td>\n",
       "      <td>Frontier Bulk Bac'Uns Vegetarian Bits, ORGANIC...</td>\n",
       "      <td>0</td>\n",
       "    </tr>\n",
       "    <tr>\n",
       "      <th>13020</th>\n",
       "      <td>Blue Sea 7242 A-Series Double Pole Toggle - 50...</td>\n",
       "      <td>BLUE SEA SYSTEMS 7242 / Blue Sea 7242 A-Series...</td>\n",
       "      <td>1</td>\n",
       "    </tr>\n",
       "  </tbody>\n",
       "</table>\n",
       "</div>"
      ],
      "text/plain": [
       "                                             item_name_1  \\\n",
       "7199   Gem Stone King 10.00 Ct Round Cut Stunning Cub...   \n",
       "18532  Orange Circle Studio 2019 Hidden Spiral Agenda...   \n",
       "18501  9\" x 100' Black EPDM 60 mil P & S CURED RUBBER...   \n",
       "11334  Frontier Bulk Lemon Peel Granules, ORGANIC, 1 ...   \n",
       "13020  Blue Sea 7242 A-Series Double Pole Toggle - 50...   \n",
       "\n",
       "                                             item_name_2  label  \n",
       "7199   Gem Stone King 10.00 Ct Round Cut Stunning Cub...      0  \n",
       "18532  Orange Circle Studio 2019 Hidden Spiral Agenda...      0  \n",
       "18501  FBA 9\" x 100' Black EPDM 60 mil P & S Cured Ru...      1  \n",
       "11334  Frontier Bulk Bac'Uns Vegetarian Bits, ORGANIC...      0  \n",
       "13020  BLUE SEA SYSTEMS 7242 / Blue Sea 7242 A-Series...      1  "
      ]
     },
     "execution_count": 4,
     "metadata": {},
     "output_type": "execute_result"
    }
   ],
   "source": [
    "# Load the training dataset\n",
    "df_train = pd.read_csv(\"../data/training.csv\")\n",
    "\n",
    "# Load the test dataset\n",
    "df_test = pd.read_csv(\"../data/mlu-leaderboard-test.csv\")\n",
    "\n",
    "\n",
    "train_data, val_data = train_test_split(\n",
    "    df_train[['item_name_1', 'item_name_2', 'label']],\n",
    "    test_size=0.10,\n",
    "    shuffle=True,\n",
    "    random_state=324,\n",
    ")\n",
    "\n",
    "# df_train = df_train.sample(n=subsample_size, random_state=0)\n",
    "train_data.head()"
   ]
  },
  {
   "cell_type": "markdown",
   "id": "7f1c97c5",
   "metadata": {},
   "source": [
    "In this data, the column named label contains categorical/numerical values (which we'd like to predict) that are human-annotated similarity scores for each given pair of sentences."
   ]
  },
  {
   "cell_type": "code",
   "execution_count": 5,
   "id": "e4d58e40",
   "metadata": {},
   "outputs": [
    {
     "name": "stdout",
     "output_type": "stream",
     "text": [
      "Min score= 0 , Max score= 1\n"
     ]
    }
   ],
   "source": [
    "print('Min score=', min(train_data['label']), ', Max score=', max(train_data['label']))"
   ]
  },
  {
   "cell_type": "markdown",
   "id": "94c5c917",
   "metadata": {},
   "source": [
    "Let's train a model to predict these labels. \n",
    "Note that we only need to specify the label column and AutoGluon automatically determines the type of prediction problem and an appropriate loss function. \n",
    "Once again, you should increase the short `time_limit` below to obtain reasonable performance in your own applications."
   ]
  },
  {
   "cell_type": "code",
   "execution_count": 7,
   "id": "b475c282",
   "metadata": {},
   "outputs": [
    {
     "name": "stderr",
     "output_type": "stream",
     "text": [
      "Global seed set to 123\n",
      "Auto select gpus: [0]\n",
      "Using 16bit native Automatic Mixed Precision (AMP)\n",
      "GPU available: True, used: True\n",
      "TPU available: False, using: 0 TPU cores\n",
      "IPU available: False, using: 0 IPUs\n",
      "HPU available: False, using: 0 HPUs\n",
      "LOCAL_RANK: 0 - CUDA_VISIBLE_DEVICES: [0]\n",
      "\n",
      "  | Name              | Type                         | Params\n",
      "-------------------------------------------------------------------\n",
      "0 | model             | HFAutoModelForTextPrediction | 108 M \n",
      "1 | validation_metric | AUROC                        | 0     \n",
      "2 | loss_func         | CrossEntropyLoss             | 0     \n",
      "-------------------------------------------------------------------\n",
      "108 M     Trainable params\n",
      "0         Non-trainable params\n",
      "108 M     Total params\n",
      "217.786   Total estimated model params size (MB)\n"
     ]
    },
    {
     "data": {
      "application/vnd.jupyter.widget-view+json": {
       "model_id": "27309151b39247398964130bb336d546",
       "version_major": 2,
       "version_minor": 0
      },
      "text/plain": [
       "Sanity Checking: 0it [00:00, ?it/s]"
      ]
     },
     "metadata": {},
     "output_type": "display_data"
    },
    {
     "data": {
      "application/vnd.jupyter.widget-view+json": {
       "model_id": "47d1a70285014bbd8f5241524edf3031",
       "version_major": 2,
       "version_minor": 0
      },
      "text/plain": [
       "Training: 0it [00:00, ?it/s]"
      ]
     },
     "metadata": {},
     "output_type": "display_data"
    },
    {
     "data": {
      "application/vnd.jupyter.widget-view+json": {
       "model_id": "8fb30bb9182b49a1bafeef1e10907040",
       "version_major": 2,
       "version_minor": 0
      },
      "text/plain": [
       "Validation: 0it [00:00, ?it/s]"
      ]
     },
     "metadata": {},
     "output_type": "display_data"
    },
    {
     "name": "stderr",
     "output_type": "stream",
     "text": [
      "Epoch 0, global step 59: 'val_roc_auc' reached 0.76104 (best 0.76104), saving model to '/home/ec2-user/SageMaker/MLU-WKSP-Tuning-Autogluon/notebooks/AutogluonModels/Text/epoch=0-step=59.ckpt' as top 3\n"
     ]
    },
    {
     "data": {
      "application/vnd.jupyter.widget-view+json": {
       "model_id": "c28efb414ebe42058bb6385cb00e1afd",
       "version_major": 2,
       "version_minor": 0
      },
      "text/plain": [
       "Validation: 0it [00:00, ?it/s]"
      ]
     },
     "metadata": {},
     "output_type": "display_data"
    },
    {
     "name": "stderr",
     "output_type": "stream",
     "text": [
      "Epoch 0, global step 119: 'val_roc_auc' reached 0.79588 (best 0.79588), saving model to '/home/ec2-user/SageMaker/MLU-WKSP-Tuning-Autogluon/notebooks/AutogluonModels/Text/epoch=0-step=119.ckpt' as top 3\n"
     ]
    },
    {
     "data": {
      "application/vnd.jupyter.widget-view+json": {
       "model_id": "0e5e74e2617a4a28b4a9b82638682405",
       "version_major": 2,
       "version_minor": 0
      },
      "text/plain": [
       "Validation: 0it [00:00, ?it/s]"
      ]
     },
     "metadata": {},
     "output_type": "display_data"
    },
    {
     "name": "stderr",
     "output_type": "stream",
     "text": [
      "Epoch 1, global step 179: 'val_roc_auc' reached 0.81554 (best 0.81554), saving model to '/home/ec2-user/SageMaker/MLU-WKSP-Tuning-Autogluon/notebooks/AutogluonModels/Text/epoch=1-step=179.ckpt' as top 3\n"
     ]
    },
    {
     "data": {
      "application/vnd.jupyter.widget-view+json": {
       "model_id": "93e905da41ec428494532ffc7b4032f6",
       "version_major": 2,
       "version_minor": 0
      },
      "text/plain": [
       "Validation: 0it [00:00, ?it/s]"
      ]
     },
     "metadata": {},
     "output_type": "display_data"
    },
    {
     "name": "stderr",
     "output_type": "stream",
     "text": [
      "Epoch 1, global step 239: 'val_roc_auc' reached 0.83669 (best 0.83669), saving model to '/home/ec2-user/SageMaker/MLU-WKSP-Tuning-Autogluon/notebooks/AutogluonModels/Text/epoch=1-step=239.ckpt' as top 3\n"
     ]
    },
    {
     "data": {
      "application/vnd.jupyter.widget-view+json": {
       "model_id": "329b837ac8604c3a9ba410779d48fd12",
       "version_major": 2,
       "version_minor": 0
      },
      "text/plain": [
       "Validation: 0it [00:00, ?it/s]"
      ]
     },
     "metadata": {},
     "output_type": "display_data"
    },
    {
     "name": "stderr",
     "output_type": "stream",
     "text": [
      "Epoch 2, global step 299: 'val_roc_auc' reached 0.84369 (best 0.84369), saving model to '/home/ec2-user/SageMaker/MLU-WKSP-Tuning-Autogluon/notebooks/AutogluonModels/Text/epoch=2-step=299.ckpt' as top 3\n"
     ]
    },
    {
     "data": {
      "application/vnd.jupyter.widget-view+json": {
       "model_id": "9f856bbd24d74c559a245acf31bc59ad",
       "version_major": 2,
       "version_minor": 0
      },
      "text/plain": [
       "Validation: 0it [00:00, ?it/s]"
      ]
     },
     "metadata": {},
     "output_type": "display_data"
    },
    {
     "name": "stderr",
     "output_type": "stream",
     "text": [
      "Epoch 2, global step 359: 'val_roc_auc' reached 0.83940 (best 0.84369), saving model to '/home/ec2-user/SageMaker/MLU-WKSP-Tuning-Autogluon/notebooks/AutogluonModels/Text/epoch=2-step=359.ckpt' as top 3\n"
     ]
    },
    {
     "data": {
      "application/vnd.jupyter.widget-view+json": {
       "model_id": "6014a9eae82e4ba0a3d169cedbb7bf53",
       "version_major": 2,
       "version_minor": 0
      },
      "text/plain": [
       "Validation: 0it [00:00, ?it/s]"
      ]
     },
     "metadata": {},
     "output_type": "display_data"
    },
    {
     "name": "stderr",
     "output_type": "stream",
     "text": [
      "Epoch 3, global step 419: 'val_roc_auc' reached 0.84791 (best 0.84791), saving model to '/home/ec2-user/SageMaker/MLU-WKSP-Tuning-Autogluon/notebooks/AutogluonModels/Text/epoch=3-step=419.ckpt' as top 3\n"
     ]
    },
    {
     "data": {
      "application/vnd.jupyter.widget-view+json": {
       "model_id": "3aad7274943a4a4595b7afbfc7d849c5",
       "version_major": 2,
       "version_minor": 0
      },
      "text/plain": [
       "Validation: 0it [00:00, ?it/s]"
      ]
     },
     "metadata": {},
     "output_type": "display_data"
    },
    {
     "name": "stderr",
     "output_type": "stream",
     "text": [
      "Epoch 3, global step 479: 'val_roc_auc' reached 0.84149 (best 0.84791), saving model to '/home/ec2-user/SageMaker/MLU-WKSP-Tuning-Autogluon/notebooks/AutogluonModels/Text/epoch=3-step=479.ckpt' as top 3\n"
     ]
    },
    {
     "data": {
      "application/vnd.jupyter.widget-view+json": {
       "model_id": "e7b23580d8bc4877ac4794e202af7aea",
       "version_major": 2,
       "version_minor": 0
      },
      "text/plain": [
       "Validation: 0it [00:00, ?it/s]"
      ]
     },
     "metadata": {},
     "output_type": "display_data"
    },
    {
     "name": "stderr",
     "output_type": "stream",
     "text": [
      "Epoch 4, global step 539: 'val_roc_auc' reached 0.84661 (best 0.84791), saving model to '/home/ec2-user/SageMaker/MLU-WKSP-Tuning-Autogluon/notebooks/AutogluonModels/Text/epoch=4-step=539.ckpt' as top 3\n"
     ]
    },
    {
     "data": {
      "application/vnd.jupyter.widget-view+json": {
       "model_id": "5801a54e78974736b39c62347bbc10a1",
       "version_major": 2,
       "version_minor": 0
      },
      "text/plain": [
       "Validation: 0it [00:00, ?it/s]"
      ]
     },
     "metadata": {},
     "output_type": "display_data"
    },
    {
     "name": "stderr",
     "output_type": "stream",
     "text": [
      "Epoch 4, global step 599: 'val_roc_auc' was not in top 3\n"
     ]
    },
    {
     "data": {
      "application/vnd.jupyter.widget-view+json": {
       "model_id": "0478bc11e58949d0a47387f8e2256464",
       "version_major": 2,
       "version_minor": 0
      },
      "text/plain": [
       "Validation: 0it [00:00, ?it/s]"
      ]
     },
     "metadata": {},
     "output_type": "display_data"
    },
    {
     "name": "stderr",
     "output_type": "stream",
     "text": [
      "Epoch 5, global step 659: 'val_roc_auc' reached 0.84706 (best 0.84791), saving model to '/home/ec2-user/SageMaker/MLU-WKSP-Tuning-Autogluon/notebooks/AutogluonModels/Text/epoch=5-step=659.ckpt' as top 3\n"
     ]
    },
    {
     "data": {
      "application/vnd.jupyter.widget-view+json": {
       "model_id": "2965884c029f441597721992cc31ac07",
       "version_major": 2,
       "version_minor": 0
      },
      "text/plain": [
       "Validation: 0it [00:00, ?it/s]"
      ]
     },
     "metadata": {},
     "output_type": "display_data"
    },
    {
     "name": "stderr",
     "output_type": "stream",
     "text": [
      "Epoch 5, global step 719: 'val_roc_auc' was not in top 3\n"
     ]
    },
    {
     "data": {
      "application/vnd.jupyter.widget-view+json": {
       "model_id": "99a01fc47af24f5fa6ec2888b2b07580",
       "version_major": 2,
       "version_minor": 0
      },
      "text/plain": [
       "Validation: 0it [00:00, ?it/s]"
      ]
     },
     "metadata": {},
     "output_type": "display_data"
    },
    {
     "name": "stderr",
     "output_type": "stream",
     "text": [
      "Epoch 6, global step 779: 'val_roc_auc' was not in top 3\n"
     ]
    },
    {
     "data": {
      "application/vnd.jupyter.widget-view+json": {
       "model_id": "d9225bcc8c004dcd89d70a9097911b63",
       "version_major": 2,
       "version_minor": 0
      },
      "text/plain": [
       "Validation: 0it [00:00, ?it/s]"
      ]
     },
     "metadata": {},
     "output_type": "display_data"
    },
    {
     "name": "stderr",
     "output_type": "stream",
     "text": [
      "Epoch 6, global step 839: 'val_roc_auc' was not in top 3\n"
     ]
    },
    {
     "data": {
      "application/vnd.jupyter.widget-view+json": {
       "model_id": "f2f31194056a43bbaa91ab34d5540b00",
       "version_major": 2,
       "version_minor": 0
      },
      "text/plain": [
       "Validation: 0it [00:00, ?it/s]"
      ]
     },
     "metadata": {},
     "output_type": "display_data"
    },
    {
     "name": "stderr",
     "output_type": "stream",
     "text": [
      "Epoch 7, global step 899: 'val_roc_auc' was not in top 3\n",
      "Time limit reached. Elapsed time is 0:20:08. Signaling Trainer to stop.\n"
     ]
    },
    {
     "data": {
      "application/vnd.jupyter.widget-view+json": {
       "model_id": "c1182daaeaa4404295a1423257897dbd",
       "version_major": 2,
       "version_minor": 0
      },
      "text/plain": [
       "Validation: 0it [00:00, ?it/s]"
      ]
     },
     "metadata": {},
     "output_type": "display_data"
    },
    {
     "name": "stderr",
     "output_type": "stream",
     "text": [
      "Start to fuse 3 checkpoints via the greedy soup algorithm.\n"
     ]
    },
    {
     "data": {
      "application/vnd.jupyter.widget-view+json": {
       "model_id": "e14b742aee194267bbc2988e95be6d0c",
       "version_major": 2,
       "version_minor": 0
      },
      "text/plain": [
       "Predicting: 0it [00:00, ?it/s]"
      ]
     },
     "metadata": {},
     "output_type": "display_data"
    },
    {
     "data": {
      "application/vnd.jupyter.widget-view+json": {
       "model_id": "942f5b044d0840228269bf9fa0f23aee",
       "version_major": 2,
       "version_minor": 0
      },
      "text/plain": [
       "Predicting: 0it [00:00, ?it/s]"
      ]
     },
     "metadata": {},
     "output_type": "display_data"
    },
    {
     "data": {
      "application/vnd.jupyter.widget-view+json": {
       "model_id": "223a72ddb36a440cbbf5687bc9810765",
       "version_major": 2,
       "version_minor": 0
      },
      "text/plain": [
       "Predicting: 0it [00:00, ?it/s]"
      ]
     },
     "metadata": {},
     "output_type": "display_data"
    },
    {
     "data": {
      "text/plain": [
       "<autogluon.text.text_prediction.predictor.TextPredictor at 0x7f1fa2ac3a30>"
      ]
     },
     "execution_count": 7,
     "metadata": {},
     "output_type": "execute_result"
    }
   ],
   "source": [
    "predictor = TextPredictor(label='label', path='./AutogluonModels/Text')\n",
    "predictor.fit(train_data, time_limit=20*60)"
   ]
  },
  {
   "cell_type": "markdown",
   "id": "62b6bcb7",
   "metadata": {},
   "source": [
    "## <a id=\"Model-Evaluation-and-Prediction\">Model Evaluation and Prediction</a>\n",
    "\n",
    "We again evaluate our trained model's performance on separate validation data. Below we choose to compute the following metrics: RMSE, Pearson Correlation, and Spearman Correlation.\n",
    "\n",
    "(<a href=\"#0\">Go to top</a>)"
   ]
  },
  {
   "cell_type": "code",
   "execution_count": 8,
   "id": "03eda321",
   "metadata": {},
   "outputs": [
    {
     "data": {
      "application/vnd.jupyter.widget-view+json": {
       "model_id": "68b907626a954e44aeea6365ad1bbb4e",
       "version_major": 2,
       "version_minor": 0
      },
      "text/plain": [
       "Predicting: 0it [00:00, ?it/s]"
      ]
     },
     "metadata": {},
     "output_type": "display_data"
    },
    {
     "name": "stdout",
     "output_type": "stream",
     "text": [
      "RMSE = 0.49\n",
      "PEARSONR = 0.5089\n",
      "SPEARMANR = 0.5089\n"
     ]
    }
   ],
   "source": [
    "val_score = predictor.evaluate(val_data, metrics=['rmse', 'pearsonr', 'spearmanr'])\n",
    "print('RMSE = {:.2f}'.format(val_score['rmse']))\n",
    "print('PEARSONR = {:.4f}'.format(val_score['pearsonr']))\n",
    "print('SPEARMANR = {:.4f}'.format(val_score['spearmanr']))"
   ]
  },
  {
   "cell_type": "code",
   "execution_count": 9,
   "id": "4b35c6f7",
   "metadata": {},
   "outputs": [
    {
     "data": {
      "application/vnd.jupyter.widget-view+json": {
       "model_id": "e099202a6a3d436f8da60f3e1c8c37b6",
       "version_major": 2,
       "version_minor": 0
      },
      "text/plain": [
       "Predicting: 0it [00:00, ?it/s]"
      ]
     },
     "metadata": {},
     "output_type": "display_data"
    },
    {
     "data": {
      "text/plain": [
       "{'acc': 0.7613756613756614, 'f1': 0.7132867132867133}"
      ]
     },
     "execution_count": 9,
     "metadata": {},
     "output_type": "execute_result"
    }
   ],
   "source": [
    "predictor.evaluate(val_data, metrics=['acc', 'f1'])"
   ]
  },
  {
   "cell_type": "markdown",
   "id": "26892696",
   "metadata": {},
   "source": [
    "Let's use our model to predict the similarity score between two sentences."
   ]
  },
  {
   "cell_type": "code",
   "execution_count": 10,
   "id": "c0402ca7",
   "metadata": {},
   "outputs": [
    {
     "data": {
      "application/vnd.jupyter.widget-view+json": {
       "model_id": "6df52cd2e3764208850e2162a13106e7",
       "version_major": 2,
       "version_minor": 0
      },
      "text/plain": [
       "Predicting: 0it [00:00, ?it/s]"
      ]
     },
     "metadata": {},
     "output_type": "display_data"
    },
    {
     "data": {
      "text/plain": [
       "array([1])"
      ]
     },
     "execution_count": 10,
     "metadata": {},
     "output_type": "execute_result"
    }
   ],
   "source": [
    "predictor.predict({'item_name_1': [val_data.item_name_1.iloc[0]],\n",
    "                                'item_name_2': [val_data.item_name_2.iloc[0]]}, as_pandas=False)"
   ]
  },
  {
   "cell_type": "markdown",
   "id": "d9dd749c",
   "metadata": {},
   "source": [
    "### Prediction on the test data"
   ]
  },
  {
   "cell_type": "code",
   "execution_count": 11,
   "id": "c1ac6fb4",
   "metadata": {},
   "outputs": [
    {
     "data": {
      "application/vnd.jupyter.widget-view+json": {
       "model_id": "e7a99ad950534fb4bc103fcfd0b9c2f7",
       "version_major": 2,
       "version_minor": 0
      },
      "text/plain": [
       "Predicting: 0it [00:00, ?it/s]"
      ]
     },
     "metadata": {},
     "output_type": "display_data"
    },
    {
     "data": {
      "text/plain": [
       "0    1\n",
       "1    0\n",
       "2    0\n",
       "3    0\n",
       "4    0\n",
       "Name: label, dtype: int64"
      ]
     },
     "execution_count": 11,
     "metadata": {},
     "output_type": "execute_result"
    }
   ],
   "source": [
    "test_predictions = predictor.predict(df_test[['item_name_1', 'item_name_2']])\n",
    "test_predictions.head()"
   ]
  },
  {
   "cell_type": "markdown",
   "id": "42345af8",
   "metadata": {},
   "source": [
    "Although the `TextPredictor` currently supports classification and regression tasks, it can directly be used for \n",
    "many NLP tasks if you properly format them into a data table. Note that there can be many text columns in this data table. \n",
    "Refer to the [TextPredictor documentation](https://auto.gluon.ai/stable/api/autogluon.predictor.html#autogluon.text.TextPredictor.fit) to see all available methods/options.\n",
    "\n",
    "Unlike `TabularPredictor` which trains/ensembles many different types of models,\n",
    "`TextPredictor` focuses on fine-tuning deep learning based models. It supports transfer learning from pretrained NLP models like: [BERT](https://arxiv.org/pdf/1810.04805.pdf),\n",
    "[ALBERT](https://arxiv.org/pdf/1909.11942.pdf), and [ELECTRA](https://openreview.net/pdf?id=r1xMH1BtvB).\n",
    "\n",
    "**Note:** `TextPredictor` uses `pytorch` as the default backend."
   ]
  },
  {
   "cell_type": "markdown",
   "id": "b6d54a74",
   "metadata": {},
   "source": [
    "## <a id=\"Extract-Embeddings\">Extract Embeddings</a>\n",
    "You can also use a trained predictor to extract embeddings that maps each row of the data table to an embedding vector extracted from intermediate neural network representations of the row.\n",
    "\n",
    "(<a href=\"#0\">Go to top</a>)"
   ]
  },
  {
   "cell_type": "code",
   "execution_count": 12,
   "id": "bfea4fe7",
   "metadata": {},
   "outputs": [
    {
     "data": {
      "application/vnd.jupyter.widget-view+json": {
       "model_id": "0104c6e2b1ae4b2a87e04a325fb01c94",
       "version_major": 2,
       "version_minor": 0
      },
      "text/plain": [
       "Predicting: 0it [00:00, ?it/s]"
      ]
     },
     "metadata": {},
     "output_type": "display_data"
    },
    {
     "name": "stdout",
     "output_type": "stream",
     "text": [
      "(1890, 768)\n"
     ]
    }
   ],
   "source": [
    "embeddings = predictor.extract_embedding(val_data)\n",
    "print(embeddings.shape)"
   ]
  },
  {
   "cell_type": "markdown",
   "id": "db4e3e42",
   "metadata": {},
   "source": [
    "Here, we use TSNE to visualize these extracted embeddings. We can see that there are two clusters corresponding to our two labels, since this network has been trained to discriminate between these labels."
   ]
  },
  {
   "cell_type": "code",
   "execution_count": 13,
   "id": "29b2171b",
   "metadata": {},
   "outputs": [
    {
     "data": {
      "text/plain": [
       "<matplotlib.legend.Legend at 0x7f1fa07896a0>"
      ]
     },
     "execution_count": 13,
     "metadata": {},
     "output_type": "execute_result"
    },
    {
     "data": {
      "image/png": "[encoded data removed]",
      "text/plain": [
       "<Figure size 432x288 with 1 Axes>"
      ]
     },
     "metadata": {
      "needs_background": "light"
     },
     "output_type": "display_data"
    }
   ],
   "source": [
    "from sklearn.manifold import TSNE\n",
    "X_embedded = TSNE(n_components=2, random_state=123).fit_transform(embeddings)\n",
    "for val, color in [(0, 'red'), (1, 'blue')]:\n",
    "    idx = (val_data['label'].to_numpy() == val).nonzero()\n",
    "    plt.scatter(X_embedded[idx, 0], X_embedded[idx, 1], c=color, label=f'label={val}')\n",
    "plt.legend(loc='best')"
   ]
  },
  {
   "cell_type": "markdown",
   "id": "37f4e958",
   "metadata": {},
   "source": [
    "# <a id=\"Text-Predictor-Advanced-Control\">Text Prediction - Advanced Control</a>\n",
    "\n",
    "Now let's introduce the presets of `TextPredictor` and how to customize hyperparameters.\n",
    "\n",
    "(<a href=\"#0\">Go to top</a>)"
   ]
  },
  {
   "cell_type": "markdown",
   "id": "5a537a82",
   "metadata": {},
   "source": [
    "## <a id=\"Preset-Configurations\">Preset Configurations</a>\n",
    "\n",
    "`TextPredictor` provides several simple preset configurations. Let's take a look at the available presets.\n",
    "\n",
    "(<a href=\"#0\">Go to top</a>)"
   ]
  },
  {
   "cell_type": "code",
   "execution_count": 14,
   "id": "618dea62",
   "metadata": {},
   "outputs": [
    {
     "data": {
      "text/plain": [
       "['default',\n",
       " 'medium_quality_faster_train',\n",
       " 'high_quality',\n",
       " 'best_quality',\n",
       " 'multilingual']"
      ]
     },
     "execution_count": 14,
     "metadata": {},
     "output_type": "execute_result"
    }
   ],
   "source": [
    "from autogluon.text.text_prediction.presets import list_text_presets\n",
    "list_text_presets()"
   ]
  },
  {
   "cell_type": "markdown",
   "id": "3af8bf3b",
   "metadata": {},
   "source": [
    "You may be interested in the configuration differences behind the preset strings."
   ]
  },
  {
   "cell_type": "code",
   "execution_count": 15,
   "id": "8a3caf7e",
   "metadata": {},
   "outputs": [
    {
     "data": {
      "text/plain": [
       "{'default': {'model.hf_text.checkpoint_name': 'google/electra-base-discriminator'},\n",
       " 'medium_quality_faster_train': {'model.hf_text.checkpoint_name': 'google/electra-small-discriminator',\n",
       "  'optimization.learning_rate': 0.0004},\n",
       " 'high_quality': {'model.hf_text.checkpoint_name': 'google/electra-base-discriminator'},\n",
       " 'best_quality': {'model.hf_text.checkpoint_name': 'microsoft/deberta-v3-base',\n",
       "  'env.per_gpu_batch_size': 2},\n",
       " 'multilingual': {'model.hf_text.checkpoint_name': 'microsoft/mdeberta-v3-base',\n",
       "  'optimization.top_k': 1,\n",
       "  'env.precision': 'bf16',\n",
       "  'env.per_gpu_batch_size': 4}}"
      ]
     },
     "execution_count": 15,
     "metadata": {},
     "output_type": "execute_result"
    }
   ],
   "source": [
    "list_text_presets(verbose=True)"
   ]
  },
  {
   "cell_type": "markdown",
   "id": "7102683e",
   "metadata": {},
   "source": [
    "We can find that the main difference between different presets lie in the choices of Huggingface transformer checkpoints. Preset `default` has the same configuration as preset `high_quality`. Designing the presets follows the rule of thumb that larger backbones tend to have better performance but with higher cost.\n",
    "\n",
    "Let's train a text predictor with preset `medium_quality_faster_train`."
   ]
  },
  {
   "cell_type": "code",
   "execution_count": 16,
   "id": "a1a0836f",
   "metadata": {},
   "outputs": [
    {
     "name": "stderr",
     "output_type": "stream",
     "text": [
      "Global seed set to 123\n"
     ]
    },
    {
     "data": {
      "application/vnd.jupyter.widget-view+json": {
       "model_id": "7398e6f231744100a43adae8c426c708",
       "version_major": 2,
       "version_minor": 0
      },
      "text/plain": [
       "Downloading:   0%|          | 0.00/29.0 [00:00<?, ?B/s]"
      ]
     },
     "metadata": {},
     "output_type": "display_data"
    },
    {
     "data": {
      "application/vnd.jupyter.widget-view+json": {
       "model_id": "8c307b6e9a9f4a9a92d3980c32905c68",
       "version_major": 2,
       "version_minor": 0
      },
      "text/plain": [
       "Downloading:   0%|          | 0.00/665 [00:00<?, ?B/s]"
      ]
     },
     "metadata": {},
     "output_type": "display_data"
    },
    {
     "data": {
      "application/vnd.jupyter.widget-view+json": {
       "model_id": "a825d0db9b434ae9b47abff4dbb72e1f",
       "version_major": 2,
       "version_minor": 0
      },
      "text/plain": [
       "Downloading:   0%|          | 0.00/226k [00:00<?, ?B/s]"
      ]
     },
     "metadata": {},
     "output_type": "display_data"
    },
    {
     "data": {
      "application/vnd.jupyter.widget-view+json": {
       "model_id": "8c088f4bea76402798f0f28d193123ad",
       "version_major": 2,
       "version_minor": 0
      },
      "text/plain": [
       "Downloading:   0%|          | 0.00/455k [00:00<?, ?B/s]"
      ]
     },
     "metadata": {},
     "output_type": "display_data"
    },
    {
     "data": {
      "application/vnd.jupyter.widget-view+json": {
       "model_id": "983066a85bd249708e5dee4ead78d2c2",
       "version_major": 2,
       "version_minor": 0
      },
      "text/plain": [
       "Downloading:   0%|          | 0.00/51.7M [00:00<?, ?B/s]"
      ]
     },
     "metadata": {},
     "output_type": "display_data"
    },
    {
     "name": "stderr",
     "output_type": "stream",
     "text": [
      "Auto select gpus: [0]\n",
      "Using 16bit native Automatic Mixed Precision (AMP)\n",
      "GPU available: True, used: True\n",
      "TPU available: False, using: 0 TPU cores\n",
      "IPU available: False, using: 0 IPUs\n",
      "HPU available: False, using: 0 HPUs\n",
      "LOCAL_RANK: 0 - CUDA_VISIBLE_DEVICES: [0]\n",
      "\n",
      "  | Name              | Type                         | Params\n",
      "-------------------------------------------------------------------\n",
      "0 | model             | HFAutoModelForTextPrediction | 13.5 M\n",
      "1 | validation_metric | Accuracy                     | 0     \n",
      "2 | loss_func         | CrossEntropyLoss             | 0     \n",
      "-------------------------------------------------------------------\n",
      "13.5 M    Trainable params\n",
      "0         Non-trainable params\n",
      "13.5 M    Total params\n",
      "26.967    Total estimated model params size (MB)\n"
     ]
    },
    {
     "data": {
      "application/vnd.jupyter.widget-view+json": {
       "model_id": "bfd55d6507df4e7683209e978286caa8",
       "version_major": 2,
       "version_minor": 0
      },
      "text/plain": [
       "Sanity Checking: 0it [00:00, ?it/s]"
      ]
     },
     "metadata": {},
     "output_type": "display_data"
    },
    {
     "data": {
      "application/vnd.jupyter.widget-view+json": {
       "model_id": "a8432b7308974de6a05beb889d78a059",
       "version_major": 2,
       "version_minor": 0
      },
      "text/plain": [
       "Training: 0it [00:00, ?it/s]"
      ]
     },
     "metadata": {},
     "output_type": "display_data"
    },
    {
     "data": {
      "application/vnd.jupyter.widget-view+json": {
       "model_id": "41f12181ce80489eb5a1956f5d1cc566",
       "version_major": 2,
       "version_minor": 0
      },
      "text/plain": [
       "Validation: 0it [00:00, ?it/s]"
      ]
     },
     "metadata": {},
     "output_type": "display_data"
    },
    {
     "name": "stderr",
     "output_type": "stream",
     "text": [
      "Epoch 0, global step 59: 'val_acc' reached 0.66843 (best 0.66843), saving model to '/home/ec2-user/SageMaker/MLU-WKSP-Tuning-Autogluon/notebooks/AutogluonModels/ag-20220805_101318/epoch=0-step=59.ckpt' as top 3\n",
      "Time limit reached. Elapsed time is 0:01:00. Signaling Trainer to stop.\n"
     ]
    },
    {
     "data": {
      "application/vnd.jupyter.widget-view+json": {
       "model_id": "b1efc53adef14726810f4da35e44d5e3",
       "version_major": 2,
       "version_minor": 0
      },
      "text/plain": [
       "Validation: 0it [00:00, ?it/s]"
      ]
     },
     "metadata": {},
     "output_type": "display_data"
    },
    {
     "name": "stderr",
     "output_type": "stream",
     "text": [
      "Epoch 0, global step 70: 'val_acc' reached 0.68195 (best 0.68195), saving model to '/home/ec2-user/SageMaker/MLU-WKSP-Tuning-Autogluon/notebooks/AutogluonModels/ag-20220805_101318/epoch=0-step=70.ckpt' as top 3\n",
      "Start to fuse 2 checkpoints via the greedy soup algorithm.\n"
     ]
    },
    {
     "data": {
      "application/vnd.jupyter.widget-view+json": {
       "model_id": "d9a245c3f8f643a0a7df194e533043b7",
       "version_major": 2,
       "version_minor": 0
      },
      "text/plain": [
       "Predicting: 0it [00:00, ?it/s]"
      ]
     },
     "metadata": {},
     "output_type": "display_data"
    },
    {
     "data": {
      "application/vnd.jupyter.widget-view+json": {
       "model_id": "aba0594d868c4ef88c4b76e121b6132a",
       "version_major": 2,
       "version_minor": 0
      },
      "text/plain": [
       "Predicting: 0it [00:00, ?it/s]"
      ]
     },
     "metadata": {},
     "output_type": "display_data"
    },
    {
     "data": {
      "text/plain": [
       "<autogluon.text.text_prediction.predictor.TextPredictor at 0x7f1f94672c10>"
      ]
     },
     "execution_count": 16,
     "metadata": {},
     "output_type": "execute_result"
    }
   ],
   "source": [
    "predictor = TextPredictor(eval_metric=\"acc\", label=\"label\")\n",
    "predictor.fit(\n",
    "    train_data=train_data,\n",
    "    presets=\"medium_quality_faster_train\",\n",
    "    time_limit=60,\n",
    ")"
   ]
  },
  {
   "cell_type": "markdown",
   "id": "3b32df84",
   "metadata": {},
   "source": [
    "Below we report both `f1` and `acc` metrics for our predictions."
   ]
  },
  {
   "cell_type": "code",
   "execution_count": 17,
   "id": "68d78f44",
   "metadata": {},
   "outputs": [
    {
     "data": {
      "application/vnd.jupyter.widget-view+json": {
       "model_id": "26bbf1c4a4d943ff9ae3e4f1ce7154f2",
       "version_major": 2,
       "version_minor": 0
      },
      "text/plain": [
       "Predicting: 0it [00:00, ?it/s]"
      ]
     },
     "metadata": {},
     "output_type": "display_data"
    },
    {
     "data": {
      "text/plain": [
       "{'f1': 0.6414108425865447, 'acc': 0.7095238095238096}"
      ]
     },
     "execution_count": 17,
     "metadata": {},
     "output_type": "execute_result"
    }
   ],
   "source": [
    "predictor.evaluate(val_data, metrics=[\"f1\", \"acc\"])"
   ]
  },
  {
   "cell_type": "markdown",
   "id": "10e86ba5",
   "metadata": {},
   "source": [
    "The pre-registered configurations provide reasonable default hyperparameters. A common workflow is to first train a model with one of the presets and then tune some hyperparameters to see if the performance can be further improved."
   ]
  },
  {
   "cell_type": "markdown",
   "id": "f39f92ba",
   "metadata": {},
   "source": [
    "## <a id=\"Customize-Hyperparameters\">Customize Hyperparameters</a>\n",
    "\n",
    "Customizing hyperparameters is easy for `TextPredictor`. For example, you may want to try backbones beyond those in the presets. Since `TextPredictor` supports loading Huggingface transformers, you can choose any desired text backbones in the [Hugginface model zoo](https://huggingface.co/models), e.g., `prajjwal1/bert-tiny`.\n",
    "\n",
    "(<a href=\"#0\">Go to top</a>)"
   ]
  },
  {
   "cell_type": "code",
   "execution_count": 18,
   "id": "c3a83ef1",
   "metadata": {},
   "outputs": [
    {
     "name": "stderr",
     "output_type": "stream",
     "text": [
      "Global seed set to 123\n"
     ]
    },
    {
     "data": {
      "application/vnd.jupyter.widget-view+json": {
       "model_id": "92753bf1f2484e1b983f54d5e39e2145",
       "version_major": 2,
       "version_minor": 0
      },
      "text/plain": [
       "Downloading:   0%|          | 0.00/285 [00:00<?, ?B/s]"
      ]
     },
     "metadata": {},
     "output_type": "display_data"
    },
    {
     "data": {
      "application/vnd.jupyter.widget-view+json": {
       "model_id": "0daabd2624c94cdcacfb0d7b84ca265e",
       "version_major": 2,
       "version_minor": 0
      },
      "text/plain": [
       "Downloading:   0%|          | 0.00/226k [00:00<?, ?B/s]"
      ]
     },
     "metadata": {},
     "output_type": "display_data"
    },
    {
     "data": {
      "application/vnd.jupyter.widget-view+json": {
       "model_id": "157cdd4f900340b3aadfbd717186a150",
       "version_major": 2,
       "version_minor": 0
      },
      "text/plain": [
       "Downloading:   0%|          | 0.00/16.9M [00:00<?, ?B/s]"
      ]
     },
     "metadata": {},
     "output_type": "display_data"
    },
    {
     "name": "stderr",
     "output_type": "stream",
     "text": [
      "Auto select gpus: [0]\n",
      "Using 16bit native Automatic Mixed Precision (AMP)\n",
      "GPU available: True, used: True\n",
      "TPU available: False, using: 0 TPU cores\n",
      "IPU available: False, using: 0 IPUs\n",
      "HPU available: False, using: 0 HPUs\n",
      "LOCAL_RANK: 0 - CUDA_VISIBLE_DEVICES: [0]\n",
      "\n",
      "  | Name              | Type                         | Params\n",
      "-------------------------------------------------------------------\n",
      "0 | model             | HFAutoModelForTextPrediction | 4.4 M \n",
      "1 | validation_metric | Accuracy                     | 0     \n",
      "2 | loss_func         | CrossEntropyLoss             | 0     \n",
      "-------------------------------------------------------------------\n",
      "4.4 M     Trainable params\n",
      "0         Non-trainable params\n",
      "4.4 M     Total params\n",
      "8.772     Total estimated model params size (MB)\n"
     ]
    },
    {
     "data": {
      "application/vnd.jupyter.widget-view+json": {
       "model_id": "d024f0cfd97c41d7b28ed3faffa7826f",
       "version_major": 2,
       "version_minor": 0
      },
      "text/plain": [
       "Sanity Checking: 0it [00:00, ?it/s]"
      ]
     },
     "metadata": {},
     "output_type": "display_data"
    },
    {
     "data": {
      "application/vnd.jupyter.widget-view+json": {
       "model_id": "592c155679404f8cb9648c20d7d90128",
       "version_major": 2,
       "version_minor": 0
      },
      "text/plain": [
       "Training: 0it [00:00, ?it/s]"
      ]
     },
     "metadata": {},
     "output_type": "display_data"
    },
    {
     "data": {
      "application/vnd.jupyter.widget-view+json": {
       "model_id": "41b2b5e159734cae9e7bd01ff26388de",
       "version_major": 2,
       "version_minor": 0
      },
      "text/plain": [
       "Validation: 0it [00:00, ?it/s]"
      ]
     },
     "metadata": {},
     "output_type": "display_data"
    },
    {
     "name": "stderr",
     "output_type": "stream",
     "text": [
      "Epoch 0, global step 59: 'val_acc' reached 0.54203 (best 0.54203), saving model to '/home/ec2-user/SageMaker/MLU-WKSP-Tuning-Autogluon/notebooks/AutogluonModels/ag-20220805_101434/epoch=0-step=59.ckpt' as top 3\n"
     ]
    },
    {
     "data": {
      "application/vnd.jupyter.widget-view+json": {
       "model_id": "cd13b68300034d4b832d29458de6f34d",
       "version_major": 2,
       "version_minor": 0
      },
      "text/plain": [
       "Validation: 0it [00:00, ?it/s]"
      ]
     },
     "metadata": {},
     "output_type": "display_data"
    },
    {
     "name": "stderr",
     "output_type": "stream",
     "text": [
      "Epoch 0, global step 119: 'val_acc' reached 0.59024 (best 0.59024), saving model to '/home/ec2-user/SageMaker/MLU-WKSP-Tuning-Autogluon/notebooks/AutogluonModels/ag-20220805_101434/epoch=0-step=119.ckpt' as top 3\n"
     ]
    },
    {
     "data": {
      "application/vnd.jupyter.widget-view+json": {
       "model_id": "919093bfbcca48d38e2374d9d8a3b488",
       "version_major": 2,
       "version_minor": 0
      },
      "text/plain": [
       "Validation: 0it [00:00, ?it/s]"
      ]
     },
     "metadata": {},
     "output_type": "display_data"
    },
    {
     "name": "stderr",
     "output_type": "stream",
     "text": [
      "Epoch 1, global step 179: 'val_acc' reached 0.63551 (best 0.63551), saving model to '/home/ec2-user/SageMaker/MLU-WKSP-Tuning-Autogluon/notebooks/AutogluonModels/ag-20220805_101434/epoch=1-step=179.ckpt' as top 3\n",
      "Time limit reached. Elapsed time is 0:01:00. Signaling Trainer to stop.\n"
     ]
    },
    {
     "data": {
      "application/vnd.jupyter.widget-view+json": {
       "model_id": "c754f0af444f41f1bf747209b064db07",
       "version_major": 2,
       "version_minor": 0
      },
      "text/plain": [
       "Validation: 0it [00:00, ?it/s]"
      ]
     },
     "metadata": {},
     "output_type": "display_data"
    },
    {
     "name": "stderr",
     "output_type": "stream",
     "text": [
      "Epoch 1, global step 218: 'val_acc' reached 0.65315 (best 0.65315), saving model to '/home/ec2-user/SageMaker/MLU-WKSP-Tuning-Autogluon/notebooks/AutogluonModels/ag-20220805_101434/epoch=1-step=218.ckpt' as top 3\n",
      "Start to fuse 3 checkpoints via the greedy soup algorithm.\n"
     ]
    },
    {
     "data": {
      "application/vnd.jupyter.widget-view+json": {
       "model_id": "7fdbaa6ce87e4b858c1b1286a46b08fc",
       "version_major": 2,
       "version_minor": 0
      },
      "text/plain": [
       "Predicting: 0it [00:00, ?it/s]"
      ]
     },
     "metadata": {},
     "output_type": "display_data"
    },
    {
     "data": {
      "application/vnd.jupyter.widget-view+json": {
       "model_id": "27c88b7ed7c94f43973a66dd476c36ce",
       "version_major": 2,
       "version_minor": 0
      },
      "text/plain": [
       "Predicting: 0it [00:00, ?it/s]"
      ]
     },
     "metadata": {},
     "output_type": "display_data"
    },
    {
     "data": {
      "application/vnd.jupyter.widget-view+json": {
       "model_id": "1f1783f0fff44dc48bc728449feb90a5",
       "version_major": 2,
       "version_minor": 0
      },
      "text/plain": [
       "Predicting: 0it [00:00, ?it/s]"
      ]
     },
     "metadata": {},
     "output_type": "display_data"
    },
    {
     "data": {
      "text/plain": [
       "<autogluon.text.text_prediction.predictor.TextPredictor at 0x7f1fa0911370>"
      ]
     },
     "execution_count": 18,
     "metadata": {},
     "output_type": "execute_result"
    }
   ],
   "source": [
    "predictor = TextPredictor(eval_metric=\"acc\", label=\"label\")\n",
    "predictor.fit(\n",
    "    train_data=train_data,\n",
    "    hyperparameters={\n",
    "        \"model.hf_text.checkpoint_name\": \"prajjwal1/bert-tiny\",\n",
    "    },\n",
    "    time_limit=60,\n",
    ")"
   ]
  },
  {
   "cell_type": "code",
   "execution_count": 19,
   "id": "3de4077e",
   "metadata": {},
   "outputs": [
    {
     "data": {
      "application/vnd.jupyter.widget-view+json": {
       "model_id": "5265236e7eed4d9b8cd24a543aaed3d8",
       "version_major": 2,
       "version_minor": 0
      },
      "text/plain": [
       "Predicting: 0it [00:00, ?it/s]"
      ]
     },
     "metadata": {},
     "output_type": "display_data"
    },
    {
     "data": {
      "text/plain": [
       "{'f1': 0.472939217318901, 'acc': 0.665079365079365}"
      ]
     },
     "execution_count": 19,
     "metadata": {},
     "output_type": "execute_result"
    }
   ],
   "source": [
    "predictor.evaluate(val_data, metrics=[\"f1\", \"acc\"])"
   ]
  },
  {
   "cell_type": "markdown",
   "id": "7d920102",
   "metadata": {},
   "source": [
    "`TextPredictor` also supports using the models that are not available in the [Huggingface model zoo](https://huggingface.co/models). To do this, you need to make sure that the models' definition follow Hugginface's AutoModel, AutoConfig, and AutoTokenizer. Let's simulate a local model."
   ]
  },
  {
   "cell_type": "code",
   "execution_count": 20,
   "id": "9816bdc2",
   "metadata": {},
   "outputs": [
    {
     "data": {
      "text/plain": [
       "['special_tokens_map.json',\n",
       " 'vocab.txt',\n",
       " 'pytorch_model.bin',\n",
       " 'tokenizer.json',\n",
       " 'config.json',\n",
       " 'tokenizer_config.json']"
      ]
     },
     "execution_count": 20,
     "metadata": {},
     "output_type": "execute_result"
    }
   ],
   "source": [
    "from transformers import AutoModel, AutoConfig, AutoTokenizer\n",
    "model_key = 'prajjwal1/bert-tiny'\n",
    "local_path = './AutogluonModels/Text/custom_local_bert_tiny'\n",
    "\n",
    "model = AutoModel.from_pretrained(model_key)\n",
    "config = AutoConfig.from_pretrained(model_key)\n",
    "tokenizer = AutoTokenizer.from_pretrained(model_key)\n",
    "\n",
    "model.save_pretrained(local_path)\n",
    "config.save_pretrained(local_path)\n",
    "tokenizer.save_pretrained(local_path)\n",
    "os.listdir(local_path)"
   ]
  },
  {
   "cell_type": "markdown",
   "id": "c50d23bb",
   "metadata": {},
   "source": [
    "Now we can use this local model in `TextPredictor`."
   ]
  },
  {
   "cell_type": "code",
   "execution_count": 21,
   "id": "73bc1c18",
   "metadata": {},
   "outputs": [
    {
     "name": "stderr",
     "output_type": "stream",
     "text": [
      "Global seed set to 123\n",
      "Auto select gpus: [0]\n",
      "Using 16bit native Automatic Mixed Precision (AMP)\n",
      "GPU available: True, used: True\n",
      "TPU available: False, using: 0 TPU cores\n",
      "IPU available: False, using: 0 IPUs\n",
      "HPU available: False, using: 0 HPUs\n",
      "LOCAL_RANK: 0 - CUDA_VISIBLE_DEVICES: [0]\n",
      "\n",
      "  | Name              | Type                         | Params\n",
      "-------------------------------------------------------------------\n",
      "0 | model             | HFAutoModelForTextPrediction | 4.4 M \n",
      "1 | validation_metric | Accuracy                     | 0     \n",
      "2 | loss_func         | CrossEntropyLoss             | 0     \n",
      "-------------------------------------------------------------------\n",
      "4.4 M     Trainable params\n",
      "0         Non-trainable params\n",
      "4.4 M     Total params\n",
      "8.772     Total estimated model params size (MB)\n"
     ]
    },
    {
     "data": {
      "application/vnd.jupyter.widget-view+json": {
       "model_id": "1260240f373a4d2d8091597c6463e055",
       "version_major": 2,
       "version_minor": 0
      },
      "text/plain": [
       "Sanity Checking: 0it [00:00, ?it/s]"
      ]
     },
     "metadata": {},
     "output_type": "display_data"
    },
    {
     "data": {
      "application/vnd.jupyter.widget-view+json": {
       "model_id": "0df54a0b00f640b48623565676da153b",
       "version_major": 2,
       "version_minor": 0
      },
      "text/plain": [
       "Training: 0it [00:00, ?it/s]"
      ]
     },
     "metadata": {},
     "output_type": "display_data"
    },
    {
     "data": {
      "application/vnd.jupyter.widget-view+json": {
       "model_id": "a21421b767e44709aeb82150fc3f288d",
       "version_major": 2,
       "version_minor": 0
      },
      "text/plain": [
       "Validation: 0it [00:00, ?it/s]"
      ]
     },
     "metadata": {},
     "output_type": "display_data"
    },
    {
     "name": "stderr",
     "output_type": "stream",
     "text": [
      "Epoch 0, global step 59: 'val_acc' reached 0.54203 (best 0.54203), saving model to '/home/ec2-user/SageMaker/MLU-WKSP-Tuning-Autogluon/notebooks/AutogluonModels/ag-20220805_101543/epoch=0-step=59.ckpt' as top 3\n"
     ]
    },
    {
     "data": {
      "application/vnd.jupyter.widget-view+json": {
       "model_id": "f6454ca0a85a4a24a1b94b1f634a93f7",
       "version_major": 2,
       "version_minor": 0
      },
      "text/plain": [
       "Validation: 0it [00:00, ?it/s]"
      ]
     },
     "metadata": {},
     "output_type": "display_data"
    },
    {
     "name": "stderr",
     "output_type": "stream",
     "text": [
      "Epoch 0, global step 119: 'val_acc' reached 0.59024 (best 0.59024), saving model to '/home/ec2-user/SageMaker/MLU-WKSP-Tuning-Autogluon/notebooks/AutogluonModels/ag-20220805_101543/epoch=0-step=119.ckpt' as top 3\n"
     ]
    },
    {
     "data": {
      "application/vnd.jupyter.widget-view+json": {
       "model_id": "e3be50dd130444edb156325f93402ae7",
       "version_major": 2,
       "version_minor": 0
      },
      "text/plain": [
       "Validation: 0it [00:00, ?it/s]"
      ]
     },
     "metadata": {},
     "output_type": "display_data"
    },
    {
     "name": "stderr",
     "output_type": "stream",
     "text": [
      "Epoch 1, global step 179: 'val_acc' reached 0.63551 (best 0.63551), saving model to '/home/ec2-user/SageMaker/MLU-WKSP-Tuning-Autogluon/notebooks/AutogluonModels/ag-20220805_101543/epoch=1-step=179.ckpt' as top 3\n",
      "Time limit reached. Elapsed time is 0:01:00. Signaling Trainer to stop.\n"
     ]
    },
    {
     "data": {
      "application/vnd.jupyter.widget-view+json": {
       "model_id": "0211782dd0ca413182f2c4bb3566249b",
       "version_major": 2,
       "version_minor": 0
      },
      "text/plain": [
       "Validation: 0it [00:00, ?it/s]"
      ]
     },
     "metadata": {},
     "output_type": "display_data"
    },
    {
     "name": "stderr",
     "output_type": "stream",
     "text": [
      "Epoch 1, global step 212: 'val_acc' reached 0.64903 (best 0.64903), saving model to '/home/ec2-user/SageMaker/MLU-WKSP-Tuning-Autogluon/notebooks/AutogluonModels/ag-20220805_101543/epoch=1-step=212.ckpt' as top 3\n",
      "Start to fuse 3 checkpoints via the greedy soup algorithm.\n"
     ]
    },
    {
     "data": {
      "application/vnd.jupyter.widget-view+json": {
       "model_id": "05f7af6bdf1a4d6fbab2a0c9008d36bc",
       "version_major": 2,
       "version_minor": 0
      },
      "text/plain": [
       "Predicting: 0it [00:00, ?it/s]"
      ]
     },
     "metadata": {},
     "output_type": "display_data"
    },
    {
     "data": {
      "application/vnd.jupyter.widget-view+json": {
       "model_id": "7efd6b4864d44f1daf545f5b3fbaa15b",
       "version_major": 2,
       "version_minor": 0
      },
      "text/plain": [
       "Predicting: 0it [00:00, ?it/s]"
      ]
     },
     "metadata": {},
     "output_type": "display_data"
    },
    {
     "data": {
      "application/vnd.jupyter.widget-view+json": {
       "model_id": "4e58e9af3f3d4d53b2b8124f5edbc419",
       "version_major": 2,
       "version_minor": 0
      },
      "text/plain": [
       "Predicting: 0it [00:00, ?it/s]"
      ]
     },
     "metadata": {},
     "output_type": "display_data"
    },
    {
     "data": {
      "text/plain": [
       "<autogluon.text.text_prediction.predictor.TextPredictor at 0x7f1f941e1520>"
      ]
     },
     "execution_count": 21,
     "metadata": {},
     "output_type": "execute_result"
    }
   ],
   "source": [
    "from autogluon.text import TextPredictor\n",
    "predictor = TextPredictor(eval_metric=\"acc\", label=\"label\")\n",
    "predictor.fit(\n",
    "    train_data=train_data,\n",
    "    hyperparameters={\n",
    "        \"model.hf_text.checkpoint_name\": \"./AutogluonModels/Text/custom_local_bert_tiny\",\n",
    "    },\n",
    "    time_limit=60,\n",
    ")"
   ]
  },
  {
   "cell_type": "code",
   "execution_count": 22,
   "id": "bb5cbcf3",
   "metadata": {},
   "outputs": [
    {
     "data": {
      "application/vnd.jupyter.widget-view+json": {
       "model_id": "f4c5863a4ea0436aa9fc377060eee679",
       "version_major": 2,
       "version_minor": 0
      },
      "text/plain": [
       "Predicting: 0it [00:00, ?it/s]"
      ]
     },
     "metadata": {},
     "output_type": "display_data"
    },
    {
     "data": {
      "text/plain": [
       "{'f1': 0.5341159207630227, 'acc': 0.6640211640211641}"
      ]
     },
     "execution_count": 22,
     "metadata": {},
     "output_type": "execute_result"
    }
   ],
   "source": [
    "predictor.evaluate(val_data, metrics=[\"f1\", \"acc\"])"
   ]
  },
  {
   "cell_type": "code",
   "execution_count": 23,
   "id": "43e05ee7",
   "metadata": {},
   "outputs": [],
   "source": [
    "#!rm -r AutogluonModels"
   ]
  },
  {
   "cell_type": "markdown",
   "id": "1d93a2ac",
   "metadata": {},
   "source": [
    "<p style=\"padding: 10px; border: 1px solid black;\">\n",
    "<img src=\"./utils/MLU-NEW-logo.png\" alt=\"drawing\" width=\"400\"/> <br/>\n",
    "\n",
    "# Thank you!"
   ]
  }
 ],
 "metadata": {
  "kernelspec": {
   "display_name": "conda_pytorch_p38",
   "language": "python",
   "name": "conda_pytorch_p38"
  },
  "language_info": {
   "codemirror_mode": {
    "name": "ipython",
    "version": 3
   },
   "file_extension": ".py",
   "mimetype": "text/x-python",
   "name": "python",
   "nbconvert_exporter": "python",
   "pygments_lexer": "ipython3",
   "version": "3.8.12"
  }
 },
 "nbformat": 4,
 "nbformat_minor": 5
}
